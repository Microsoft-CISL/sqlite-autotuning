{
 "cells": [
  {
   "cell_type": "markdown",
   "id": "ae17e7e7",
   "metadata": {},
   "source": [
    "# Azure Data University: mlos_bench MySQL data analysis"
   ]
  },
  {
   "cell_type": "markdown",
   "id": "bf380450-478a-4b47-b625-cd6509f08f1f",
   "metadata": {},
   "source": [
    "In this notebook, we will look at some data we've collected with `mlos_bench` while optimizing MySQL Server configuration for Azure."
   ]
  },
  {
   "cell_type": "markdown",
   "id": "9ee8287b-4626-4362-9e71-43b23b016aba",
   "metadata": {},
   "source": [
    "### 1. Import packages"
   ]
  },
  {
   "cell_type": "markdown",
   "id": "96277e52",
   "metadata": {},
   "source": [
    "First, import some standard Python packages for data manipulation and plotting.\n",
    "\n",
    "We'll also use the `mlos_bench` Storage API to retrieve the data from our experiments."
   ]
  },
  {
   "cell_type": "code",
   "execution_count": 44,
   "id": "48aadee0",
   "metadata": {},
   "outputs": [],
   "source": [
    "import pandas\n",
    "from matplotlib import pyplot as plt\n",
    "import seaborn as sns\n",
    "\n",
    "from mlos_bench.storage import from_config"
   ]
  },
  {
   "cell_type": "code",
   "execution_count": 45,
   "id": "ae7b5aef-3ff2-4a23-a9ad-45473db5b74b",
   "metadata": {},
   "outputs": [],
   "source": [
    "# Cosmetic: Suppress some annoying warnings from third-party data visualization packages\n",
    "import warnings\n",
    "warnings.filterwarnings(\"ignore\", category=FutureWarning)"
   ]
  },
  {
   "cell_type": "markdown",
   "id": "2ddb84fb",
   "metadata": {},
   "source": [
    "### 2. Connect to the DB using existing mlos_bench configs"
   ]
  },
  {
   "cell_type": "markdown",
   "id": "d6280d16",
   "metadata": {},
   "source": [
    "We reuse the existing `mlos_bench` framework configuration file that contains the DB connection parameters. This way we make sure to connect to the same database that our framework uses to store the experimental data.\n",
    "\n",
    "Typically, this would connect to a remote database that acts as a central storage for all the experimental data. However, for this example we attach to a local database with some data that we fetched for this demo environment."
   ]
  },
  {
   "cell_type": "code",
   "execution_count": 46,
   "id": "ccca92e3",
   "metadata": {},
   "outputs": [],
   "source": [
    "storage = from_config(config_file=\"storage/sqlite.jsonc\")"
   ]
  },
  {
   "cell_type": "markdown",
   "id": "caa2feab",
   "metadata": {},
   "source": [
    "### 3. List all experiments"
   ]
  },
  {
   "cell_type": "markdown",
   "id": "93c6a7b1",
   "metadata": {},
   "source": [
    "The user-facing Storage API basically has a single property, `.experiments`, that returns a Python `dict` of `(Experiment ID, Experiment Data)` key/value pairs.\n",
    "\n",
    "We can view the contents of it in this notebook by simply listing the variable and its attribute on a bare line, in which case a simple textual representation of the object is printed."
   ]
  },
  {
   "cell_type": "code",
   "execution_count": 47,
   "id": "a4956fa2",
   "metadata": {},
   "outputs": [
    {
     "data": {
      "text/plain": [
       "{'mysql-innodb-bseries-v346-vmcontrol': Experiment :: mysql-innodb-bseries-v346-vmcontrol,\n",
       " 'mysql-innodb-buf': Experiment :: mysql-innodb-buf,\n",
       " 'mysql-innodb-explore-D2S': Experiment :: mysql-innodb-explore-D2S,\n",
       " 'sqlite-sync-journal-pagesize-caching-experiment': Experiment :: sqlite-sync-journal-pagesize-caching-experiment}"
      ]
     },
     "execution_count": 47,
     "metadata": {},
     "output_type": "execute_result"
    }
   ],
   "source": [
    "storage.experiments"
   ]
  },
  {
   "cell_type": "markdown",
   "id": "c623bac1-0c7c-4344-8e86-67d0e4ed6264",
   "metadata": {},
   "source": [
    "We can see our SQLite optimization experiments that were started in the background and some past data from MySQL Server optimization.\n",
    "\n",
    "We'll focus on the latter set in this notebook while the other sqlite experiments run in the background and continue to collect tuning results data."
   ]
  },
  {
   "cell_type": "markdown",
   "id": "0fae2e0b",
   "metadata": {},
   "source": [
    "### 4. Get all data for one experiment"
   ]
  },
  {
   "cell_type": "markdown",
   "id": "d0516cf8",
   "metadata": {},
   "source": [
    "Knowing the Experiment ID, we can access all data related to this experiment."
   ]
  },
  {
   "cell_type": "code",
   "execution_count": 48,
   "id": "f6c525fd",
   "metadata": {},
   "outputs": [
    {
     "data": {
      "text/plain": [
       "Experiment :: mysql-innodb-explore-D2S"
      ]
     },
     "execution_count": 48,
     "metadata": {},
     "output_type": "execute_result"
    }
   ],
   "source": [
    "exp = storage.experiments[\"mysql-innodb-explore-D2S\"]\n",
    "exp"
   ]
  },
  {
   "cell_type": "markdown",
   "id": "399b3bdf",
   "metadata": {},
   "source": [
    "The main method that combines the information about each trial along with the trial configuration parameters and its results, is the `.results` property.\n",
    "It conveniently returns all data about the experiment is a single `pandas.DataFrame` object.\n",
    "\n",
    "> `DataFrames` are a very commonly used data structure in Python for data analysis and manipulation. They are very similar to SQL tables in some ways, having both named and numerically indexed columns and rows.\n",
    ">\n",
    "> `DataFrames` are typically intended for data analysis so they are column oriented, meaning, accessing a single column (e.g., by name) is very efficient, and will return an array-like `Series` object that can be used for common data analysis tasks (e.g., min, max, mean, median, standard deviation, etc.).\n",
    "\n",
    "Let's first explore some simple `pandas.DataFrame` operations in order to get a feel for the data."
   ]
  },
  {
   "cell_type": "code",
   "execution_count": 49,
   "id": "bd7d3f2d",
   "metadata": {},
   "outputs": [
    {
     "data": {
      "text/html": [
       "<div>\n",
       "<style scoped>\n",
       "    .dataframe tbody tr th:only-of-type {\n",
       "        vertical-align: middle;\n",
       "    }\n",
       "\n",
       "    .dataframe tbody tr th {\n",
       "        vertical-align: top;\n",
       "    }\n",
       "\n",
       "    .dataframe thead th {\n",
       "        text-align: right;\n",
       "    }\n",
       "</style>\n",
       "<table border=\"1\" class=\"dataframe\">\n",
       "  <thead>\n",
       "    <tr style=\"text-align: right;\">\n",
       "      <th></th>\n",
       "      <th>trial_id</th>\n",
       "      <th>ts_start</th>\n",
       "      <th>ts_end</th>\n",
       "      <th>config_id</th>\n",
       "      <th>status</th>\n",
       "      <th>config.innodb_buffer_pool_dump_pct</th>\n",
       "      <th>config.innodb_buffer_pool_instances</th>\n",
       "      <th>config.innodb_flush_method</th>\n",
       "      <th>config.innodb_log_buffer_size</th>\n",
       "      <th>config.innodb_old_blocks_pct</th>\n",
       "      <th>...</th>\n",
       "      <th>result.latency_pct</th>\n",
       "      <th>result.other</th>\n",
       "      <th>result.percentile</th>\n",
       "      <th>result.reads</th>\n",
       "      <th>result.reconnects</th>\n",
       "      <th>result.score</th>\n",
       "      <th>result.threads</th>\n",
       "      <th>result.time</th>\n",
       "      <th>result.total</th>\n",
       "      <th>result.writes</th>\n",
       "    </tr>\n",
       "  </thead>\n",
       "  <tbody>\n",
       "    <tr>\n",
       "      <th>0</th>\n",
       "      <td>1</td>\n",
       "      <td>2023-07-20 20:18:30</td>\n",
       "      <td>2023-07-20 20:51:50</td>\n",
       "      <td>382</td>\n",
       "      <td>SUCCEEDED</td>\n",
       "      <td>100</td>\n",
       "      <td>8</td>\n",
       "      <td>fsync</td>\n",
       "      <td>16</td>\n",
       "      <td>37</td>\n",
       "      <td>...</td>\n",
       "      <td>69.289067</td>\n",
       "      <td>39.732553</td>\n",
       "      <td>95.0</td>\n",
       "      <td>1424.230357</td>\n",
       "      <td>0.0</td>\n",
       "      <td>69.289067</td>\n",
       "      <td>0.0</td>\n",
       "      <td>600.010582</td>\n",
       "      <td>1998.272415</td>\n",
       "      <td>534.309505</td>\n",
       "    </tr>\n",
       "    <tr>\n",
       "      <th>1</th>\n",
       "      <td>2</td>\n",
       "      <td>2023-07-20 20:51:51</td>\n",
       "      <td>2023-07-20 21:06:20</td>\n",
       "      <td>383</td>\n",
       "      <td>SUCCEEDED</td>\n",
       "      <td>78</td>\n",
       "      <td>2</td>\n",
       "      <td>O_DSYNC</td>\n",
       "      <td>461</td>\n",
       "      <td>23</td>\n",
       "      <td>...</td>\n",
       "      <td>99.327030</td>\n",
       "      <td>31.044015</td>\n",
       "      <td>95.0</td>\n",
       "      <td>1101.909230</td>\n",
       "      <td>0.0</td>\n",
       "      <td>99.327030</td>\n",
       "      <td>0.0</td>\n",
       "      <td>600.178903</td>\n",
       "      <td>1544.614672</td>\n",
       "      <td>411.661428</td>\n",
       "    </tr>\n",
       "    <tr>\n",
       "      <th>2</th>\n",
       "      <td>3</td>\n",
       "      <td>2023-07-20 21:06:20</td>\n",
       "      <td>2023-07-20 21:09:04</td>\n",
       "      <td>384</td>\n",
       "      <td>FAILED</td>\n",
       "      <td>9</td>\n",
       "      <td>44</td>\n",
       "      <td>fsync</td>\n",
       "      <td>1665</td>\n",
       "      <td>60</td>\n",
       "      <td>...</td>\n",
       "      <td>NaN</td>\n",
       "      <td>NaN</td>\n",
       "      <td>NaN</td>\n",
       "      <td>NaN</td>\n",
       "      <td>NaN</td>\n",
       "      <td>NaN</td>\n",
       "      <td>NaN</td>\n",
       "      <td>NaN</td>\n",
       "      <td>NaN</td>\n",
       "      <td>NaN</td>\n",
       "    </tr>\n",
       "    <tr>\n",
       "      <th>3</th>\n",
       "      <td>4</td>\n",
       "      <td>2023-07-20 21:09:04</td>\n",
       "      <td>2023-07-20 21:12:11</td>\n",
       "      <td>419</td>\n",
       "      <td>FAILED</td>\n",
       "      <td>92</td>\n",
       "      <td>46</td>\n",
       "      <td>fsync</td>\n",
       "      <td>1381</td>\n",
       "      <td>45</td>\n",
       "      <td>...</td>\n",
       "      <td>NaN</td>\n",
       "      <td>NaN</td>\n",
       "      <td>NaN</td>\n",
       "      <td>NaN</td>\n",
       "      <td>NaN</td>\n",
       "      <td>NaN</td>\n",
       "      <td>NaN</td>\n",
       "      <td>NaN</td>\n",
       "      <td>NaN</td>\n",
       "      <td>NaN</td>\n",
       "    </tr>\n",
       "    <tr>\n",
       "      <th>4</th>\n",
       "      <td>5</td>\n",
       "      <td>2023-07-20 21:12:11</td>\n",
       "      <td>2023-07-20 21:26:44</td>\n",
       "      <td>420</td>\n",
       "      <td>SUCCEEDED</td>\n",
       "      <td>52</td>\n",
       "      <td>42</td>\n",
       "      <td>O_DSYNC</td>\n",
       "      <td>1861</td>\n",
       "      <td>34</td>\n",
       "      <td>...</td>\n",
       "      <td>106.745112</td>\n",
       "      <td>26.612829</td>\n",
       "      <td>95.0</td>\n",
       "      <td>955.876192</td>\n",
       "      <td>0.0</td>\n",
       "      <td>106.745112</td>\n",
       "      <td>0.0</td>\n",
       "      <td>600.273162</td>\n",
       "      <td>1341.824690</td>\n",
       "      <td>359.335669</td>\n",
       "    </tr>\n",
       "  </tbody>\n",
       "</table>\n",
       "<p>5 rows × 24 columns</p>\n",
       "</div>"
      ],
      "text/plain": [
       "   trial_id            ts_start              ts_end  config_id     status  \\\n",
       "0         1 2023-07-20 20:18:30 2023-07-20 20:51:50        382  SUCCEEDED   \n",
       "1         2 2023-07-20 20:51:51 2023-07-20 21:06:20        383  SUCCEEDED   \n",
       "2         3 2023-07-20 21:06:20 2023-07-20 21:09:04        384     FAILED   \n",
       "3         4 2023-07-20 21:09:04 2023-07-20 21:12:11        419     FAILED   \n",
       "4         5 2023-07-20 21:12:11 2023-07-20 21:26:44        420  SUCCEEDED   \n",
       "\n",
       "   config.innodb_buffer_pool_dump_pct  config.innodb_buffer_pool_instances  \\\n",
       "0                                 100                                    8   \n",
       "1                                  78                                    2   \n",
       "2                                   9                                   44   \n",
       "3                                  92                                   46   \n",
       "4                                  52                                   42   \n",
       "\n",
       "  config.innodb_flush_method  config.innodb_log_buffer_size  \\\n",
       "0                      fsync                             16   \n",
       "1                    O_DSYNC                            461   \n",
       "2                      fsync                           1665   \n",
       "3                      fsync                           1381   \n",
       "4                    O_DSYNC                           1861   \n",
       "\n",
       "   config.innodb_old_blocks_pct  ...  result.latency_pct  result.other  \\\n",
       "0                            37  ...           69.289067     39.732553   \n",
       "1                            23  ...           99.327030     31.044015   \n",
       "2                            60  ...                 NaN           NaN   \n",
       "3                            45  ...                 NaN           NaN   \n",
       "4                            34  ...          106.745112     26.612829   \n",
       "\n",
       "   result.percentile  result.reads  result.reconnects  result.score  \\\n",
       "0               95.0   1424.230357                0.0     69.289067   \n",
       "1               95.0   1101.909230                0.0     99.327030   \n",
       "2                NaN           NaN                NaN           NaN   \n",
       "3                NaN           NaN                NaN           NaN   \n",
       "4               95.0    955.876192                0.0    106.745112   \n",
       "\n",
       "   result.threads  result.time  result.total  result.writes  \n",
       "0             0.0   600.010582   1998.272415     534.309505  \n",
       "1             0.0   600.178903   1544.614672     411.661428  \n",
       "2             NaN          NaN           NaN            NaN  \n",
       "3             NaN          NaN           NaN            NaN  \n",
       "4             0.0   600.273162   1341.824690     359.335669  \n",
       "\n",
       "[5 rows x 24 columns]"
      ]
     },
     "execution_count": 49,
     "metadata": {},
     "output_type": "execute_result"
    }
   ],
   "source": [
    "# Get the results of all trials of an experiment as a pandas dataframe\n",
    "df = exp.results\n",
    "\n",
    "# Examine just the initial portion of the dataframe and display it as a table.\n",
    "df.head()"
   ]
  },
  {
   "cell_type": "markdown",
   "id": "fb123668",
   "metadata": {},
   "source": [
    "Each record of the DataFrame has the information about the trial, e.g., its timestamp and status, along with the configuration parameters (columns prefixed with `config.`) and the benchmark results (columns prefixed with `result.`). Let's look at the first record to see all these fields."
   ]
  },
  {
   "cell_type": "code",
   "execution_count": 50,
   "id": "599843df",
   "metadata": {},
   "outputs": [
    {
     "data": {
      "text/plain": [
       "trial_id                                                 1\n",
       "ts_start                               2023-07-20 20:18:30\n",
       "ts_end                                 2023-07-20 20:51:50\n",
       "config_id                                              382\n",
       "status                                           SUCCEEDED\n",
       "config.innodb_buffer_pool_dump_pct                     100\n",
       "config.innodb_buffer_pool_instances                      8\n",
       "config.innodb_flush_method                           fsync\n",
       "config.innodb_log_buffer_size                           16\n",
       "config.innodb_old_blocks_pct                            37\n",
       "config.join_buffer_size                                256\n",
       "config.sort_buffer_size                                512\n",
       "result.errors                                          0.0\n",
       "result.events                                  1998.272415\n",
       "result.latency_pct                               69.289067\n",
       "result.other                                     39.732553\n",
       "result.percentile                                     95.0\n",
       "result.reads                                   1424.230357\n",
       "result.reconnects                                      0.0\n",
       "result.score                                     69.289067\n",
       "result.threads                                         0.0\n",
       "result.time                                     600.010582\n",
       "result.total                                   1998.272415\n",
       "result.writes                                   534.309505\n",
       "Name: 0, dtype: object"
      ]
     },
     "metadata": {},
     "output_type": "display_data"
    }
   ],
   "source": [
    "# The first trial is the default config.\n",
    "default_config_trial = df.loc[0]\n",
    "display(default_config_trial)"
   ]
  },
  {
   "cell_type": "markdown",
   "id": "bc370f88",
   "metadata": {},
   "source": [
    "Let's also look at one of the \"best\" configs."
   ]
  },
  {
   "cell_type": "code",
   "execution_count": 51,
   "id": "a1a379a5",
   "metadata": {},
   "outputs": [
    {
     "data": {
      "text/plain": [
       "trial_id                                                23\n",
       "ts_start                               2023-07-21 01:50:27\n",
       "ts_end                                 2023-07-21 02:05:20\n",
       "config_id                                              457\n",
       "status                                           SUCCEEDED\n",
       "config.innodb_buffer_pool_dump_pct                      84\n",
       "config.innodb_buffer_pool_instances                      9\n",
       "config.innodb_flush_method                        O_DIRECT\n",
       "config.innodb_log_buffer_size                           12\n",
       "config.innodb_old_blocks_pct                            69\n",
       "config.join_buffer_size                             102491\n",
       "config.sort_buffer_size                               2504\n",
       "result.errors                                          0.0\n",
       "result.events                                   1784.66439\n",
       "result.latency_pct                               50.107444\n",
       "result.other                                     38.151919\n",
       "result.percentile                                     95.0\n",
       "result.reads                                   1271.371293\n",
       "result.reconnects                                      0.0\n",
       "result.score                                     50.107444\n",
       "result.threads                                         0.0\n",
       "result.time                                     600.177862\n",
       "result.total                                    1784.66439\n",
       "result.writes                                   475.141179\n",
       "Name: 22, dtype: object"
      ]
     },
     "metadata": {},
     "output_type": "display_data"
    }
   ],
   "source": [
    "SCORE = \"result.latency_pct\"\n",
    "# The inner expression selects the row(s) with the lowest value of the SCORE column.\n",
    "# We select just the first one of those.\n",
    "best_trial = df[df[SCORE] == df[SCORE].min()].iloc[0]\n",
    "display(best_trial)"
   ]
  },
  {
   "cell_type": "markdown",
   "id": "613f5d14",
   "metadata": {},
   "source": [
    "### 5. Plot the results"
   ]
  },
  {
   "cell_type": "markdown",
   "id": "7d429a30",
   "metadata": {},
   "source": [
    "Now that we have all experimental data conveniently represented in a single DataFrame, we can create some plots and see how the configuration parameters correlate with the benchmark results.\n",
    "\n",
    "First, let's select a configuration parameter we want to study along with the benchmark metric we've collected durting our trials. Here we pick the MySQL `innodb_buffer_pool_instances` configuration parameter, and see how cheanging it impacts the benchmark's latency 95th percentile (the `latency_pct` metric). We also pick a secondary configuration parameter, `innodb_flush_method` to add an extra dimension to our analysis."
   ]
  },
  {
   "cell_type": "code",
   "execution_count": 52,
   "id": "3d850fd2",
   "metadata": {},
   "outputs": [],
   "source": [
    "# The dataframe has a lot of columns. Let's just focus on a few of them.\n",
    "\n",
    "# This is overall score that we are trying to improve.\n",
    "# In this experiment, mlos_bench optimizer is minimizing the P95 tail latency.\n",
    "SCORE = \"result.latency_pct\"\n",
    "SCORE_LABEL = \"P95 Tail Latency (ms)\"\n",
    "\n",
    "# Pick one configuration parameter and see how it influences the score.\n",
    "PARAM1_LABEL = \"innodb_buffer_pool_instances\"\n",
    "PARAM1 = \"config.\" + PARAM1_LABEL\n",
    "\n",
    "# We can also plot a system metric that might be influenced by the configuration.\n",
    "# PARAM1 = \"result.writes\"\n",
    "\n",
    "# A categorical configuration parameter is a great choice to add a color dimension to\n",
    "# our plot. This way, we can visualize teh score and two configuration parameters at once.\n",
    "PARAM2 = \"config.innodb_flush_method\""
   ]
  },
  {
   "cell_type": "code",
   "execution_count": 53,
   "id": "538a56b7",
   "metadata": {},
   "outputs": [
    {
     "data": {
      "image/png": "[encoded data removed]",
      "text/plain": [
       "<Figure size 1000x300 with 1 Axes>"
      ]
     },
     "metadata": {},
     "output_type": "display_data"
    }
   ],
   "source": [
    "# Set the size of the figure.\n",
    "plt.rcParams[\"figure.figsize\"] = (10, 3)\n",
    "\n",
    "# Create a scatter plot for that figure\n",
    "sns.scatterplot(data=df, x=PARAM1, y=SCORE, hue=PARAM2, marker='o', alpha=0.7)\n",
    "\n",
    "# Emphasize an area where the default config exists.\n",
    "\n",
    "plt.scatter(x=default_config_trial[PARAM1], y=default_config_trial[SCORE], marker='o', s=100, color='black', alpha=0.8)\n",
    "plt.text(default_config_trial[PARAM1] + 0.5, default_config_trial[SCORE] + 5, \"Default\\nconfiguration\", horizontalalignment='left', size='medium', color='black')\n",
    "\n",
    "# Emphasize an area some improved configs exists.\n",
    "plt.scatter(x=best_trial[PARAM1], y=best_trial[SCORE], marker='o', s=100, color='red', alpha=0.8)\n",
    "plt.text(best_trial[PARAM1] + 0.5, best_trial[SCORE] + 5, \"Improved\\nconfiguration\", horizontalalignment='left', size='medium', color='red')\n",
    "\n",
    "plt.xlabel(PARAM1_LABEL)\n",
    "plt.ylabel(SCORE_LABEL)\n",
    "\n",
    "plt.title(\"Experiment: \" + exp.exp_id)\n",
    "plt.grid()\n",
    "plt.show()"
   ]
  },
  {
   "cell_type": "markdown",
   "id": "844dc8aa",
   "metadata": {},
   "source": [
    "In this experiment, we allowed our `mlos_bench` optimizer to explore the configuration space and suggest new benchmark-worthy MySQL configurations. After conducting a number of trials, we picked the best-performing configuration and ran some more trials, comparing this new configuration with our baseline."
   ]
  },
  {
   "cell_type": "markdown",
   "id": "dabe243c",
   "metadata": {},
   "source": [
    "### 6. Look at some other experiment"
   ]
  },
  {
   "cell_type": "markdown",
   "id": "38c33011",
   "metadata": {},
   "source": [
    "After running a number of experiments and trials, we came up with a shortlist of promising MySQL configurations for more rigorous benchmarking and analysis. In this experiment, we run a large number of additional trials to compare two such configurations. Having many data samples, we can not only analyze the average performance of each configuration, but also look at the variance of the data and assess how robust each configuration is with respect to the fluctuations in the cloud performance."
   ]
  },
  {
   "cell_type": "code",
   "execution_count": 54,
   "id": "ac49fd85",
   "metadata": {},
   "outputs": [],
   "source": [
    "exp_bench = storage.experiments[\"mysql-innodb-bseries-v346-vmcontrol\"]\n",
    "df_bench = exp_bench.results"
   ]
  },
  {
   "cell_type": "code",
   "execution_count": 55,
   "id": "0e707a3d",
   "metadata": {},
   "outputs": [
    {
     "data": {
      "image/png": "[encoded data removed]",
      "text/plain": [
       "<Figure size 500x300 with 1 Axes>"
      ]
     },
     "metadata": {},
     "output_type": "display_data"
    }
   ],
   "source": [
    "plt.rcParams[\"figure.figsize\"] = (5, 3)\n",
    "\n",
    "sns.violinplot(data=df_bench, x=PARAM1, y=SCORE)\n",
    "\n",
    "plt.xlabel(PARAM1_LABEL)\n",
    "plt.ylabel(SCORE_LABEL)\n",
    "\n",
    "plt.title(\"Experiment: \" + exp_bench.exp_id)\n",
    "plt.grid()\n",
    "plt.show()"
   ]
  },
  {
   "cell_type": "markdown",
   "id": "c42108d8",
   "metadata": {},
   "source": [
    "Here we see that the first configuration (which is actually our winner from the previous experiment) indeed has somewhat better latency on average. However, our other configuration is noticeably more robust and may be a better candidate for a new default MySQL setup on Azure."
   ]
  },
  {
   "cell_type": "markdown",
   "id": "634604ef",
   "metadata": {},
   "source": [
    "----------------------"
   ]
  },
  {
   "cell_type": "markdown",
   "id": "07427108",
   "metadata": {},
   "source": [
    "### 7. Extra: access the data of an individual trial"
   ]
  },
  {
   "cell_type": "markdown",
   "id": "48235044",
   "metadata": {},
   "source": [
    "Sometimes we need to take a closer look at the data from the individual trial. The `ExperimentData.trials` property returns a Python `dict` of trial data records indexed by an integer trial ID."
   ]
  },
  {
   "cell_type": "code",
   "execution_count": 56,
   "id": "3c8c04a2",
   "metadata": {},
   "outputs": [
    {
     "data": {
      "text/plain": [
       "mysql-innodb-buf:16 config:705 SUCCEEDED"
      ]
     },
     "execution_count": 56,
     "metadata": {},
     "output_type": "execute_result"
    }
   ],
   "source": [
    "trial = storage.experiments[\"mysql-innodb-buf\"].trials[16]\n",
    "trial"
   ]
  },
  {
   "cell_type": "markdown",
   "id": "20dc5bda",
   "metadata": {},
   "source": [
    "Each such `TrialData` object allows us to access the configuration of a particular trial as a Pandas DataFrame:"
   ]
  },
  {
   "cell_type": "code",
   "execution_count": 57,
   "id": "9c82f3c4",
   "metadata": {},
   "outputs": [
    {
     "data": {
      "text/html": [
       "<div>\n",
       "<style scoped>\n",
       "    .dataframe tbody tr th:only-of-type {\n",
       "        vertical-align: middle;\n",
       "    }\n",
       "\n",
       "    .dataframe tbody tr th {\n",
       "        vertical-align: top;\n",
       "    }\n",
       "\n",
       "    .dataframe thead th {\n",
       "        text-align: right;\n",
       "    }\n",
       "</style>\n",
       "<table border=\"1\" class=\"dataframe\">\n",
       "  <thead>\n",
       "    <tr style=\"text-align: right;\">\n",
       "      <th></th>\n",
       "      <th>parameter</th>\n",
       "      <th>value</th>\n",
       "    </tr>\n",
       "  </thead>\n",
       "  <tbody>\n",
       "    <tr>\n",
       "      <th>0</th>\n",
       "      <td>innodb_buffer_pool_dump_pct</td>\n",
       "      <td>74</td>\n",
       "    </tr>\n",
       "    <tr>\n",
       "      <th>1</th>\n",
       "      <td>innodb_buffer_pool_instances</td>\n",
       "      <td>16</td>\n",
       "    </tr>\n",
       "    <tr>\n",
       "      <th>2</th>\n",
       "      <td>innodb_flush_method</td>\n",
       "      <td>O_DIRECT</td>\n",
       "    </tr>\n",
       "    <tr>\n",
       "      <th>3</th>\n",
       "      <td>innodb_log_buffer_size</td>\n",
       "      <td>663</td>\n",
       "    </tr>\n",
       "    <tr>\n",
       "      <th>4</th>\n",
       "      <td>innodb_old_blocks_pct</td>\n",
       "      <td>92</td>\n",
       "    </tr>\n",
       "    <tr>\n",
       "      <th>5</th>\n",
       "      <td>join_buffer_size</td>\n",
       "      <td>280313</td>\n",
       "    </tr>\n",
       "    <tr>\n",
       "      <th>6</th>\n",
       "      <td>sort_buffer_size</td>\n",
       "      <td>31080</td>\n",
       "    </tr>\n",
       "  </tbody>\n",
       "</table>\n",
       "</div>"
      ],
      "text/plain": [
       "                      parameter     value\n",
       "0   innodb_buffer_pool_dump_pct        74\n",
       "1  innodb_buffer_pool_instances        16\n",
       "2           innodb_flush_method  O_DIRECT\n",
       "3        innodb_log_buffer_size       663\n",
       "4         innodb_old_blocks_pct        92\n",
       "5              join_buffer_size    280313\n",
       "6              sort_buffer_size     31080"
      ]
     },
     "execution_count": 57,
     "metadata": {},
     "output_type": "execute_result"
    }
   ],
   "source": [
    "trial.config"
   ]
  },
  {
   "cell_type": "markdown",
   "id": "0d202770",
   "metadata": {},
   "source": [
    "Some trials can also have an addition key/value pairs of metadata associated with them. Here, for example, we see what optimizer was used to suggest this trial's configuration, and what the optimization target was. Again, the result is a Pandas DataFrame."
   ]
  },
  {
   "cell_type": "code",
   "execution_count": 58,
   "id": "9fec4225",
   "metadata": {},
   "outputs": [
    {
     "data": {
      "text/html": [
       "<div>\n",
       "<style scoped>\n",
       "    .dataframe tbody tr th:only-of-type {\n",
       "        vertical-align: middle;\n",
       "    }\n",
       "\n",
       "    .dataframe tbody tr th {\n",
       "        vertical-align: top;\n",
       "    }\n",
       "\n",
       "    .dataframe thead th {\n",
       "        text-align: right;\n",
       "    }\n",
       "</style>\n",
       "<table border=\"1\" class=\"dataframe\">\n",
       "  <thead>\n",
       "    <tr style=\"text-align: right;\">\n",
       "      <th></th>\n",
       "      <th>parameter</th>\n",
       "      <th>value</th>\n",
       "    </tr>\n",
       "  </thead>\n",
       "  <tbody>\n",
       "    <tr>\n",
       "      <th>0</th>\n",
       "      <td>opt_direction</td>\n",
       "      <td>min</td>\n",
       "    </tr>\n",
       "    <tr>\n",
       "      <th>1</th>\n",
       "      <td>opt_target</td>\n",
       "      <td>score</td>\n",
       "    </tr>\n",
       "    <tr>\n",
       "      <th>2</th>\n",
       "      <td>optimizer</td>\n",
       "      <td>MlosCoreOptimizer:FlamlOptimizer</td>\n",
       "    </tr>\n",
       "  </tbody>\n",
       "</table>\n",
       "</div>"
      ],
      "text/plain": [
       "       parameter                             value\n",
       "0  opt_direction                               min\n",
       "1     opt_target                             score\n",
       "2      optimizer  MlosCoreOptimizer:FlamlOptimizer"
      ]
     },
     "execution_count": 58,
     "metadata": {},
     "output_type": "execute_result"
    }
   ],
   "source": [
    "trial.metadata"
   ]
  },
  {
   "cell_type": "markdown",
   "id": "19a8515b",
   "metadata": {},
   "source": [
    "Similarly, we can retrieve a DataFrame with the benchmark metrics for the trial. Note that even though we optimize for the `score` metric (which is a copy of `latency_pct`), we also collect other metrics with each trial. This data can be reused later in other experiments with different optimziation targets. "
   ]
  },
  {
   "cell_type": "code",
   "execution_count": 59,
   "id": "d8618577",
   "metadata": {},
   "outputs": [
    {
     "data": {
      "text/html": [
       "<div>\n",
       "<style scoped>\n",
       "    .dataframe tbody tr th:only-of-type {\n",
       "        vertical-align: middle;\n",
       "    }\n",
       "\n",
       "    .dataframe tbody tr th {\n",
       "        vertical-align: top;\n",
       "    }\n",
       "\n",
       "    .dataframe thead th {\n",
       "        text-align: right;\n",
       "    }\n",
       "</style>\n",
       "<table border=\"1\" class=\"dataframe\">\n",
       "  <thead>\n",
       "    <tr style=\"text-align: right;\">\n",
       "      <th></th>\n",
       "      <th>metric</th>\n",
       "      <th>value</th>\n",
       "    </tr>\n",
       "  </thead>\n",
       "  <tbody>\n",
       "    <tr>\n",
       "      <th>0</th>\n",
       "      <td>errors</td>\n",
       "      <td>0.0</td>\n",
       "    </tr>\n",
       "    <tr>\n",
       "      <th>1</th>\n",
       "      <td>events</td>\n",
       "      <td>1731.702333</td>\n",
       "    </tr>\n",
       "    <tr>\n",
       "      <th>2</th>\n",
       "      <td>latency_pct</td>\n",
       "      <td>55.824272</td>\n",
       "    </tr>\n",
       "    <tr>\n",
       "      <th>3</th>\n",
       "      <td>other</td>\n",
       "      <td>35.176485</td>\n",
       "    </tr>\n",
       "    <tr>\n",
       "      <th>4</th>\n",
       "      <td>percentile</td>\n",
       "      <td>95.0</td>\n",
       "    </tr>\n",
       "    <tr>\n",
       "      <th>5</th>\n",
       "      <td>reads</td>\n",
       "      <td>1234.730116</td>\n",
       "    </tr>\n",
       "    <tr>\n",
       "      <th>6</th>\n",
       "      <td>reconnects</td>\n",
       "      <td>0.0</td>\n",
       "    </tr>\n",
       "    <tr>\n",
       "      <th>7</th>\n",
       "      <td>score</td>\n",
       "      <td>55.824272</td>\n",
       "    </tr>\n",
       "    <tr>\n",
       "      <th>8</th>\n",
       "      <td>threads</td>\n",
       "      <td>0.0</td>\n",
       "    </tr>\n",
       "    <tr>\n",
       "      <th>9</th>\n",
       "      <td>time</td>\n",
       "      <td>600.029641</td>\n",
       "    </tr>\n",
       "    <tr>\n",
       "      <th>10</th>\n",
       "      <td>total</td>\n",
       "      <td>1731.702333</td>\n",
       "    </tr>\n",
       "    <tr>\n",
       "      <th>11</th>\n",
       "      <td>writes</td>\n",
       "      <td>461.795733</td>\n",
       "    </tr>\n",
       "  </tbody>\n",
       "</table>\n",
       "</div>"
      ],
      "text/plain": [
       "         metric        value\n",
       "0        errors          0.0\n",
       "1        events  1731.702333\n",
       "2   latency_pct    55.824272\n",
       "3         other    35.176485\n",
       "4    percentile         95.0\n",
       "5         reads  1234.730116\n",
       "6    reconnects          0.0\n",
       "7         score    55.824272\n",
       "8       threads          0.0\n",
       "9          time   600.029641\n",
       "10        total  1731.702333\n",
       "11       writes   461.795733"
      ]
     },
     "execution_count": 59,
     "metadata": {},
     "output_type": "execute_result"
    }
   ],
   "source": [
    "trial.results"
   ]
  },
  {
   "cell_type": "markdown",
   "id": "ebfdb5d2",
   "metadata": {},
   "source": [
    "Our framework can also collect some sideband telemetry data during the trial. Unlike the benchmark metrics used for the optimziation, the telemetry metrics can have multiple data points for each metric ID. The resulting DataFrame has three columns for the timestamp, metric ID, and metric value, respectively."
   ]
  },
  {
   "cell_type": "code",
   "execution_count": 60,
   "id": "688cfdc2",
   "metadata": {},
   "outputs": [
    {
     "data": {
      "text/html": [
       "<div>\n",
       "<style scoped>\n",
       "    .dataframe tbody tr th:only-of-type {\n",
       "        vertical-align: middle;\n",
       "    }\n",
       "\n",
       "    .dataframe tbody tr th {\n",
       "        vertical-align: top;\n",
       "    }\n",
       "\n",
       "    .dataframe thead th {\n",
       "        text-align: right;\n",
       "    }\n",
       "</style>\n",
       "<table border=\"1\" class=\"dataframe\">\n",
       "  <thead>\n",
       "    <tr style=\"text-align: right;\">\n",
       "      <th></th>\n",
       "      <th>ts</th>\n",
       "      <th>metric</th>\n",
       "      <th>value</th>\n",
       "    </tr>\n",
       "  </thead>\n",
       "  <tbody>\n",
       "    <tr>\n",
       "      <th>0</th>\n",
       "      <td>2023-09-25 19:30:24</td>\n",
       "      <td>errors</td>\n",
       "      <td>0.0</td>\n",
       "    </tr>\n",
       "    <tr>\n",
       "      <th>1</th>\n",
       "      <td>2023-09-25 19:30:24</td>\n",
       "      <td>events</td>\n",
       "      <td>1770.030204</td>\n",
       "    </tr>\n",
       "    <tr>\n",
       "      <th>2</th>\n",
       "      <td>2023-09-25 19:30:24</td>\n",
       "      <td>latency_pct</td>\n",
       "      <td>50.107444</td>\n",
       "    </tr>\n",
       "    <tr>\n",
       "      <th>3</th>\n",
       "      <td>2023-09-25 19:30:24</td>\n",
       "      <td>other</td>\n",
       "      <td>36.048579</td>\n",
       "    </tr>\n",
       "    <tr>\n",
       "      <th>4</th>\n",
       "      <td>2023-09-25 19:30:24</td>\n",
       "      <td>percentile</td>\n",
       "      <td>95.0</td>\n",
       "    </tr>\n",
       "    <tr>\n",
       "      <th>...</th>\n",
       "      <td>...</td>\n",
       "      <td>...</td>\n",
       "      <td>...</td>\n",
       "    </tr>\n",
       "    <tr>\n",
       "      <th>115</th>\n",
       "      <td>2023-09-25 19:39:24</td>\n",
       "      <td>score</td>\n",
       "      <td>54.828067</td>\n",
       "    </tr>\n",
       "    <tr>\n",
       "      <th>116</th>\n",
       "      <td>2023-09-25 19:39:24</td>\n",
       "      <td>threads</td>\n",
       "      <td>30.0</td>\n",
       "    </tr>\n",
       "    <tr>\n",
       "      <th>117</th>\n",
       "      <td>2023-09-25 19:39:24</td>\n",
       "      <td>time</td>\n",
       "      <td>600.000436</td>\n",
       "    </tr>\n",
       "    <tr>\n",
       "      <th>118</th>\n",
       "      <td>2023-09-25 19:39:24</td>\n",
       "      <td>total</td>\n",
       "      <td>1728.884971</td>\n",
       "    </tr>\n",
       "    <tr>\n",
       "      <th>119</th>\n",
       "      <td>2023-09-25 19:39:24</td>\n",
       "      <td>writes</td>\n",
       "      <td>461.43377</td>\n",
       "    </tr>\n",
       "  </tbody>\n",
       "</table>\n",
       "<p>120 rows × 3 columns</p>\n",
       "</div>"
      ],
      "text/plain": [
       "                     ts       metric        value\n",
       "0   2023-09-25 19:30:24       errors          0.0\n",
       "1   2023-09-25 19:30:24       events  1770.030204\n",
       "2   2023-09-25 19:30:24  latency_pct    50.107444\n",
       "3   2023-09-25 19:30:24        other    36.048579\n",
       "4   2023-09-25 19:30:24   percentile         95.0\n",
       "..                  ...          ...          ...\n",
       "115 2023-09-25 19:39:24        score    54.828067\n",
       "116 2023-09-25 19:39:24      threads         30.0\n",
       "117 2023-09-25 19:39:24         time   600.000436\n",
       "118 2023-09-25 19:39:24        total  1728.884971\n",
       "119 2023-09-25 19:39:24       writes    461.43377\n",
       "\n",
       "[120 rows x 3 columns]"
      ]
     },
     "execution_count": 60,
     "metadata": {},
     "output_type": "execute_result"
    }
   ],
   "source": [
    "trial.telemetry"
   ]
  },
  {
   "cell_type": "markdown",
   "id": "8759c013",
   "metadata": {},
   "source": [
    "In this experiment, our telemetry has the same metrics as the final benchmark, but taken every 60 seconds over the course of the trial."
   ]
  },
  {
   "cell_type": "markdown",
   "id": "3dc194bd-dba0-4f2c-b981-cf172cb40266",
   "metadata": {},
   "source": [
    "----------------------------------"
   ]
  },
  {
   "cell_type": "markdown",
   "id": "868695ad-1a8c-410c-9eec-52882ee07b37",
   "metadata": {},
   "source": [
    "### 8. Outro"
   ]
  },
  {
   "cell_type": "markdown",
   "id": "b7f2b016",
   "metadata": {},
   "source": [
    "If you feel curious, please go ahead and explore the MySQL data in the cells below.\n",
    "\n",
    "After that, please open other notebooks in this repository and look at the SQLite optimization results:\n",
    "\n",
    "* [**mlos_demo_sqlite.ipynb**](mlos_demo_sqlite.ipynb) - Use this notebook to analyze the data you've collected during this workshop.\n",
    "* [**mlos_demo_sqlite_teachers.ipynb**](mlos_demo_sqlite_teachers.ipynb) - Teacher's copy, don't peek! :-) Here we analyze the data from 100 trials of SQLite optimization we ran in this codespace before the class. The results you get in the workshop should look similar."
   ]
  },
  {
   "cell_type": "code",
   "execution_count": null,
   "id": "e062dd5a-bac5-48b1-9cc7-7eaad47579a0",
   "metadata": {},
   "outputs": [],
   "source": []
  }
 ],
 "metadata": {
  "kernelspec": {
   "display_name": "Python 3 (ipykernel)",
   "language": "python",
   "name": "python3"
  },
  "language_info": {
   "codemirror_mode": {
    "name": "ipython",
    "version": 3
   },
   "file_extension": ".py",
   "mimetype": "text/x-python",
   "name": "python",
   "nbconvert_exporter": "python",
   "pygments_lexer": "ipython3",
   "version": "3.11.5"
  }
 },
 "nbformat": 4,
 "nbformat_minor": 5
}
