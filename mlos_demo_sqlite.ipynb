{
 "cells": [
  {
   "cell_type": "markdown",
   "id": "19b0472b",
   "metadata": {},
   "source": [
    "# Azure Data University: mlos_bench SQLite data analysis (Student's workbook)"
   ]
  },
  {
   "cell_type": "markdown",
   "id": "8d6d54c6-5688-4b7b-a8fc-5c83bfd1d308",
   "metadata": {},
   "source": [
    "In this notebook, we look at the data from 100 trials we ran in `mlos_bench` to find a better SQLite configuration."
   ]
  },
  {
   "cell_type": "markdown",
   "id": "32c05a23-2ce8-4826-bc00-93431e4fd7e6",
   "metadata": {},
   "source": [
    "### 1. Data collection"
   ]
  },
  {
   "cell_type": "markdown",
   "id": "7ffd2cbd",
   "metadata": {},
   "source": [
    "We used the following commands in the integrated terminal of this codespace:\n",
    "\n",
    "```sh\n",
    "conda activate mlos\n",
    "\n",
    "mlos_bench --config config/cli/local-sqlite-opt.jsonc \\\n",
    "           --globals config/experiments/sqlite-sync-journal-pagesize-caching-experiment.jsonc \\\n",
    "           --max-iterations 100\n",
    "```\n",
    "\n",
    "> See Also: [README.md](./README.md) for further instructions."
   ]
  },
  {
   "cell_type": "markdown",
   "id": "7dd879e7",
   "metadata": {},
   "source": [
    "After letting it run for a few trials (it should take 10 to 15 minutes), we can start analyzing the autotuning data produced by the `mlos_bench` framework."
   ]
  },
  {
   "cell_type": "markdown",
   "id": "695ebcd9-9c15-4516-9306-bb4bbe2fcb6f",
   "metadata": {},
   "source": [
    "### 2. Import MLOS packages"
   ]
  },
  {
   "cell_type": "code",
   "execution_count": null,
   "id": "2cc20772-fdeb-415d-82af-dae67a307965",
   "metadata": {},
   "outputs": [],
   "source": [
    "# Import mlos_bench Storage API to access the experimental data.\n",
    "from mlos_bench.storage import from_config"
   ]
  },
  {
   "cell_type": "markdown",
   "id": "2ddb84fb",
   "metadata": {},
   "source": [
    "### 3. Connect to the DB using existing mlos_bench configs"
   ]
  },
  {
   "cell_type": "markdown",
   "id": "25fab05f-7aff-4a97-ba33-3e159a566938",
   "metadata": {},
   "source": [
    "We reuse the existing `mlos_bench` framework configuration file that contains the DB connection parameters.\n",
    "This way we make sure to connect to the same database that our framework uses to store the experimental data."
   ]
  },
  {
   "cell_type": "code",
   "execution_count": null,
   "id": "ccca92e3",
   "metadata": {},
   "outputs": [],
   "source": [
    "storage = from_config(config_file=\"storage/sqlite.jsonc\")"
   ]
  },
  {
   "cell_type": "markdown",
   "id": "caa2feab",
   "metadata": {},
   "source": [
    "### 4. Load the data for our experiment"
   ]
  },
  {
   "cell_type": "markdown",
   "id": "e4850663",
   "metadata": {},
   "source": [
    "At the top level, Storage API has a single property, `.experiments` that returns a Python `dict` of key/value pairs of Experiment ID and Experiment Data."
   ]
  },
  {
   "cell_type": "code",
   "execution_count": null,
   "id": "a4956fa2",
   "metadata": {},
   "outputs": [],
   "source": [
    "storage.experiments"
   ]
  },
  {
   "cell_type": "markdown",
   "id": "428c5ac1-6be2-4f02-a425-932a5f12973a",
   "metadata": {},
   "source": [
    "You should see a record for our experiment in the DB. Let's look at the data associated with it."
   ]
  },
  {
   "cell_type": "code",
   "execution_count": null,
   "id": "8eb4baf2-adca-4f86-acb9-5cfeb2b63e33",
   "metadata": {},
   "outputs": [],
   "source": [
    "experiment_id = \"sqlite-opt-demo\""
   ]
  },
  {
   "cell_type": "markdown",
   "id": "0fae2e0b",
   "metadata": {},
   "source": [
    "### 5. Get all data for one experiment"
   ]
  },
  {
   "cell_type": "code",
   "execution_count": null,
   "id": "f6c525fd",
   "metadata": {},
   "outputs": [],
   "source": [
    "exp = storage.experiments[experiment_id]\n",
    "display(exp)\n",
    "exp.objectives"
   ]
  },
  {
   "cell_type": "code",
   "execution_count": null,
   "id": "d9571ed4",
   "metadata": {},
   "outputs": [],
   "source": [
    "# Display the set of optimization target objectives.\n",
    "display(exp.objectives)"
   ]
  },
  {
   "cell_type": "markdown",
   "id": "f29cc04a-2736-4ee4-a461-61a3784e8e8e",
   "metadata": {},
   "source": [
    "Main method that combines the information about each trial along with the trial configuration parameters and its results, is the property `.results`. It conveniently returns all data about the experiment is a single Pandas DataFrame."
   ]
  },
  {
   "cell_type": "code",
   "execution_count": null,
   "id": "bd7d3f2d",
   "metadata": {},
   "outputs": [],
   "source": [
    "df = exp.results_df"
   ]
  },
  {
   "cell_type": "code",
   "execution_count": null,
   "id": "42395b98",
   "metadata": {},
   "outputs": [],
   "source": [
    "# TODO: Print the first 10 records of the results."
   ]
  },
  {
   "cell_type": "markdown",
   "id": "14e3545d-67a1-4fa1-b502-e3ea5a5e7666",
   "metadata": {},
   "source": [
    "Each record of the DataFrame has the information about the trial, e.g., its timestamp and status, along with the configuration parameters (columns prefixed with `config.`) and the benchmark results (columns prefixed with `result.`). The `trial_id` field is simply the iteration number within the current experiment. Let's look at the first record to see all these fields."
   ]
  },
  {
   "cell_type": "code",
   "execution_count": null,
   "id": "599843df",
   "metadata": {},
   "outputs": [],
   "source": [
    "# TODO: Print a single record of the `df` DataFrame"
   ]
  },
  {
   "cell_type": "markdown",
   "id": "5a07ea9c",
   "metadata": {},
   "source": [
    "#### 5.1. Look at the data\n",
    "\n",
    "We can think of each trial as a _noisy_ black-box function that has multiple inputs (that is, `config.*` parameters) and multiple outputs (the `result.*` fields). One of those outputs is designated as a target optimization metric. In our case, it's the DataFrame column named `result.90th Percentile Latency (microseconds)`, but we can reuse other outputs in different experiments (e.g., finding a configuration for maximizing throughput instead of minimizing latency).\n",
    "\n",
    "The goal of our optimization process is to find input values (that is, the configuration) that minimize the output score, i.e., the 90th percentile query latency. The optimizer repeatedly proposes the new input values to efficiently explore the multi-dimensional configuration space and find the (global) optimum.\n",
    "\n",
    "Of course, we can just blindly trust the optimizer and just use configuration it recommends as an optimum after some reasonably large series of trials; however, it is always a good idea to look at the data from all trials and try to better understand the behavior of the system and see how each configuration parameter impacts its performance. Such multi-dimensional data analysis is a daunting task, but looking at one or two dimensions at a time can already reveal a lot of information.\n",
    "\n",
    "We'll do that in the sections below."
   ]
  },
  {
   "cell_type": "code",
   "execution_count": null,
   "id": "77b3b26b",
   "metadata": {},
   "outputs": [],
   "source": [
    "# TODO: Use Pandas API to print a few more records or columns of the data.\n",
    "# Can you see the correlation between the configuration parameters and the results?\n",
    "# Neither can we."
   ]
  },
  {
   "cell_type": "markdown",
   "id": "bd87ddb3",
   "metadata": {},
   "source": [
    "### 6. Visualize the results data automatically using `mlos_viz.plot()`"
   ]
  },
  {
   "cell_type": "code",
   "execution_count": null,
   "id": "1bad8fe8",
   "metadata": {},
   "outputs": [],
   "source": [
    "import mlos_viz"
   ]
  },
  {
   "cell_type": "markdown",
   "id": "00a0fc88",
   "metadata": {},
   "source": [
    "`mlos_viz` attempts to use the information about the data to automatically provide some basic visualizations without much effort on the developer's part.\n",
    "\n",
    "At the moment, we do this using [`dabl`](https://github.com/dabl/dabl), though in the future we intend to add support for more interactive visualizations or even scheduling new trials, while maintaining a very simple API:"
   ]
  },
  {
   "cell_type": "code",
   "execution_count": null,
   "id": "bb651296",
   "metadata": {},
   "outputs": [],
   "source": [
    "mlos_viz.plot(exp)"
   ]
  },
  {
   "cell_type": "markdown",
   "id": "f7cf4adc",
   "metadata": {},
   "source": [
    "What can we learn from the visualizations?"
   ]
  },
  {
   "cell_type": "markdown",
   "id": "1e944e86",
   "metadata": {},
   "source": [
    "### 7. Refocusing on a new region of the config space\n",
    "\n",
    "After examing the results visualized above, you should see that a particular tunable seems to have influenced the results substantially.\n",
    "\n",
    "What happens if you remove that tunable from the optimizer?\n",
    "\n",
    "Adjust the configs and re-run the benchmark loop to run that new experiment.\n",
    "\n",
    "Can we prewarm the optimizer with any of the previous results?"
   ]
  },
  {
   "cell_type": "code",
   "execution_count": null,
   "id": "9d66dc24",
   "metadata": {},
   "outputs": [],
   "source": []
  },
  {
   "cell_type": "markdown",
   "id": "b737e230",
   "metadata": {},
   "source": [
    "#### Reanalyze the new data\n",
    "\n",
    "Try using the tabular APIs in addition to the `mlos_viz.plot()` APIs to compare the new and old results."
   ]
  },
  {
   "cell_type": "markdown",
   "id": "7600f6a6-ed11-408b-baca-ae13de0803b8",
   "metadata": {},
   "source": [
    "### 8. Outro"
   ]
  },
  {
   "cell_type": "markdown",
   "id": "e20656b8-092f-4e89-abc3-eccdba63326d",
   "metadata": {},
   "source": [
    "If you feel curious, please go ahead and play with the SQLite data in the cells below.\n",
    "\n",
    "After that, please open other notebooks in this repository and explore the data you have collected in this class as well as the results from our MySQL optimization experiments:\n",
    "\n",
    "* [**mlos_demo_sqlite.ipynb**](mlos_demo_sqlite.ipynb) - Use this notebook to analyze the data you've collected during this workshop.\n",
    "* [**mlos_demo_mysql.ipynb**](mlos_demo_mysql.ipynb) - Look at the actual production data we've collected in serveral experiment for MySQL Server optimization on Azure."
   ]
  },
  {
   "cell_type": "code",
   "execution_count": null,
   "id": "3fb01b48-e8e3-4f20-9027-b0f6371e5d15",
   "metadata": {},
   "outputs": [],
   "source": []
  }
 ],
 "metadata": {
  "kernelspec": {
   "display_name": "Python 3 (ipykernel)",
   "language": "python",
   "name": "python3"
  },
  "language_info": {
   "codemirror_mode": {
    "name": "ipython",
    "version": 3
   },
   "file_extension": ".py",
   "mimetype": "text/x-python",
   "name": "python",
   "nbconvert_exporter": "python",
   "pygments_lexer": "ipython3",
   "version": "3.12.5"
  }
 },
 "nbformat": 4,
 "nbformat_minor": 5
}
