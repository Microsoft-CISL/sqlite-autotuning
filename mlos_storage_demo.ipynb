{
 "cells": [
  {
   "cell_type": "code",
   "execution_count": 1,
   "id": "48aadee0",
   "metadata": {},
   "outputs": [],
   "source": [
    "import pandas\n",
    "from matplotlib import pyplot as plt\n",
    "import seaborn as sns\n",
    "\n",
    "from mlos_bench.storage import from_config"
   ]
  },
  {
   "cell_type": "markdown",
   "id": "2ddb84fb",
   "metadata": {},
   "source": [
    "### Connect using existing mlos_bench configs"
   ]
  },
  {
   "cell_type": "code",
   "execution_count": 2,
   "id": "ccca92e3",
   "metadata": {},
   "outputs": [],
   "source": [
    "storage = from_config(config_file=\"config/storage/sqlite.jsonc\")"
   ]
  },
  {
   "cell_type": "markdown",
   "id": "caa2feab",
   "metadata": {},
   "source": [
    "### List all experiments"
   ]
  },
  {
   "cell_type": "code",
   "execution_count": 3,
   "id": "a4956fa2",
   "metadata": {},
   "outputs": [
    {
     "data": {
      "text/plain": [
       "{'MySQLBench2VMs-1param': Experiment :: MySQLBench2VMs-1param,\n",
       " 'MySQLBench2VMs-3params': Experiment :: MySQLBench2VMs-3params,\n",
       " 'MySQLBench2VMs-3params.1': Experiment :: MySQLBench2VMs-3params.1,\n",
       " 'MySQLBench2VMs-7params.1': Experiment :: MySQLBench2VMs-7params.1,\n",
       " 'MySQLBench2VMs-categoricalparams': Experiment :: MySQLBench2VMs-categoricalparams,\n",
       " 'MysqlBench2VMs': Experiment :: MysqlBench2VMs,\n",
       " 'MysqlBench2VMs-7params': Experiment :: MysqlBench2VMs-7params,\n",
       " 'MysqlBench2VMs-categorical-1': Experiment :: MysqlBench2VMs-categorical-1,\n",
       " 'MysqlBench2VMs-sched_migration_cost_ns': Experiment :: MysqlBench2VMs-sched_migration_cost_ns,\n",
       " 'MysqlBench2VMs-testif346valid': Experiment :: MysqlBench2VMs-testif346valid,\n",
       " 'MysqlBench2VMs-testifworking': Experiment :: MysqlBench2VMs-testifworking,\n",
       " 'MysqlBench2VMs.categorical.1': Experiment :: MysqlBench2VMs.categorical.1,\n",
       " 'MysqlBench2VMsKernel': Experiment :: MysqlBench2VMsKernel,\n",
       " 'MysqlBench2VMsKernel1': Experiment :: MysqlBench2VMsKernel1,\n",
       " 'MysqlBench2VMscategorical-1': Experiment :: MysqlBench2VMscategorical-1,\n",
       " 'MysqlBench2VMscategorical1': Experiment :: MysqlBench2VMscategorical1,\n",
       " 'RedisBench': Experiment :: RedisBench,\n",
       " 'RedisBenchBoot': Experiment :: RedisBenchBoot,\n",
       " 'mysql-flex': Experiment :: mysql-flex,\n",
       " 'mysql-innodb-Standard_A2_v2-1ac516aa-vm1': Experiment :: mysql-innodb-Standard_A2_v2-1ac516aa-vm1,\n",
       " 'mysql-innodb-Standard_B2s-0fc5b1fd-vm1': Experiment :: mysql-innodb-Standard_B2s-0fc5b1fd-vm1,\n",
       " 'mysql-innodb-Standard_B2s-b7573c39-vm1': Experiment :: mysql-innodb-Standard_B2s-b7573c39-vm1,\n",
       " 'mysql-innodb-Standard_D2s_v3-0533c94f-vm1': Experiment :: mysql-innodb-Standard_D2s_v3-0533c94f-vm1,\n",
       " 'mysql-innodb-Standard_F2s-4faab354-vm1': Experiment :: mysql-innodb-Standard_F2s-4faab354-vm1,\n",
       " 'mysql-innodb-bseries-v346-vm1': Experiment :: mysql-innodb-bseries-v346-vm1,\n",
       " 'mysql-innodb-bseries-v346-vm2': Experiment :: mysql-innodb-bseries-v346-vm2,\n",
       " 'mysql-innodb-bseries-v346-vmcontrol': Experiment :: mysql-innodb-bseries-v346-vmcontrol,\n",
       " 'mysql-innodb-bseries2ms-346-bm': Experiment :: mysql-innodb-bseries2ms-346-bm,\n",
       " 'mysql-innodb-bseries2ms-346-east': Experiment :: mysql-innodb-bseries2ms-346-east,\n",
       " 'mysql-innodb-bseries2ms-346-east-control': Experiment :: mysql-innodb-bseries2ms-346-east-control,\n",
       " 'mysql-innodb-bseries2ms-346-vm': Experiment :: mysql-innodb-bseries2ms-346-vm,\n",
       " 'mysql-innodb-bseries2ms-346-vm-control': Experiment :: mysql-innodb-bseries2ms-346-vm-control,\n",
       " 'mysql-innodb-buf': Experiment :: mysql-innodb-buf,\n",
       " 'mysql-innodb-buf-param346test': Experiment :: mysql-innodb-buf-param346test,\n",
       " 'mysql-innodb-buff-param346test': Experiment :: mysql-innodb-buff-param346test,\n",
       " 'mysql-innodb-buffedup-346testD2S': Experiment :: mysql-innodb-buffedup-346testD2S,\n",
       " 'mysql-innodb-control-346testD2S': Experiment :: mysql-innodb-control-346testD2S,\n",
       " 'mysql-innodb-explore-D2S': Experiment :: mysql-innodb-explore-D2S,\n",
       " 'mysql-innodb-explore-D2S-1': Experiment :: mysql-innodb-explore-D2S-1,\n",
       " 'mysql-kernel-hp': Experiment :: mysql-kernel-hp,\n",
       " 'mysqlflex': Experiment :: mysqlflex,\n",
       " 'postgres-kernel-hp': Experiment :: postgres-kernel-hp}"
      ]
     },
     "execution_count": 3,
     "metadata": {},
     "output_type": "execute_result"
    }
   ],
   "source": [
    "storage.experiments"
   ]
  },
  {
   "cell_type": "markdown",
   "id": "0fae2e0b",
   "metadata": {},
   "source": [
    "## Get all data for one experiment"
   ]
  },
  {
   "cell_type": "code",
   "execution_count": 4,
   "id": "f6c525fd",
   "metadata": {},
   "outputs": [
    {
     "data": {
      "text/plain": [
       "Experiment :: mysql-innodb-explore-D2S"
      ]
     },
     "execution_count": 4,
     "metadata": {},
     "output_type": "execute_result"
    }
   ],
   "source": [
    "exp = storage.experiments[\"mysql-innodb-explore-D2S\"]\n",
    "exp"
   ]
  },
  {
   "cell_type": "code",
   "execution_count": 5,
   "id": "bd7d3f2d",
   "metadata": {
    "scrolled": false
   },
   "outputs": [
    {
     "data": {
      "text/html": [
       "<div>\n",
       "<style scoped>\n",
       "    .dataframe tbody tr th:only-of-type {\n",
       "        vertical-align: middle;\n",
       "    }\n",
       "\n",
       "    .dataframe tbody tr th {\n",
       "        vertical-align: top;\n",
       "    }\n",
       "\n",
       "    .dataframe thead th {\n",
       "        text-align: right;\n",
       "    }\n",
       "</style>\n",
       "<table border=\"1\" class=\"dataframe\">\n",
       "  <thead>\n",
       "    <tr style=\"text-align: right;\">\n",
       "      <th></th>\n",
       "      <th>trial_id</th>\n",
       "      <th>ts_start</th>\n",
       "      <th>ts_end</th>\n",
       "      <th>config_id</th>\n",
       "      <th>status</th>\n",
       "      <th>config.innodb_buffer_pool_dump_pct</th>\n",
       "      <th>config.innodb_buffer_pool_instances</th>\n",
       "      <th>config.innodb_flush_method</th>\n",
       "      <th>config.innodb_log_buffer_size</th>\n",
       "      <th>config.innodb_old_blocks_pct</th>\n",
       "      <th>...</th>\n",
       "      <th>result.latency_pct</th>\n",
       "      <th>result.other</th>\n",
       "      <th>result.percentile</th>\n",
       "      <th>result.reads</th>\n",
       "      <th>result.reconnects</th>\n",
       "      <th>result.score</th>\n",
       "      <th>result.threads</th>\n",
       "      <th>result.time</th>\n",
       "      <th>result.total</th>\n",
       "      <th>result.writes</th>\n",
       "    </tr>\n",
       "  </thead>\n",
       "  <tbody>\n",
       "    <tr>\n",
       "      <th>0</th>\n",
       "      <td>1</td>\n",
       "      <td>2023-07-20 20:18:30</td>\n",
       "      <td>2023-07-20 20:51:50</td>\n",
       "      <td>382</td>\n",
       "      <td>SUCCEEDED</td>\n",
       "      <td>100</td>\n",
       "      <td>8</td>\n",
       "      <td>fsync</td>\n",
       "      <td>16</td>\n",
       "      <td>37</td>\n",
       "      <td>...</td>\n",
       "      <td>69.289067</td>\n",
       "      <td>39.732553</td>\n",
       "      <td>95.0</td>\n",
       "      <td>1424.230357</td>\n",
       "      <td>0.0</td>\n",
       "      <td>69.289067</td>\n",
       "      <td>0.0</td>\n",
       "      <td>600.010582</td>\n",
       "      <td>1998.272415</td>\n",
       "      <td>534.309505</td>\n",
       "    </tr>\n",
       "    <tr>\n",
       "      <th>1</th>\n",
       "      <td>2</td>\n",
       "      <td>2023-07-20 20:51:51</td>\n",
       "      <td>2023-07-20 21:06:20</td>\n",
       "      <td>383</td>\n",
       "      <td>SUCCEEDED</td>\n",
       "      <td>78</td>\n",
       "      <td>2</td>\n",
       "      <td>O_DSYNC</td>\n",
       "      <td>461</td>\n",
       "      <td>23</td>\n",
       "      <td>...</td>\n",
       "      <td>99.327030</td>\n",
       "      <td>31.044015</td>\n",
       "      <td>95.0</td>\n",
       "      <td>1101.909230</td>\n",
       "      <td>0.0</td>\n",
       "      <td>99.327030</td>\n",
       "      <td>0.0</td>\n",
       "      <td>600.178903</td>\n",
       "      <td>1544.614672</td>\n",
       "      <td>411.661428</td>\n",
       "    </tr>\n",
       "    <tr>\n",
       "      <th>2</th>\n",
       "      <td>3</td>\n",
       "      <td>2023-07-20 21:06:20</td>\n",
       "      <td>2023-07-20 21:09:04</td>\n",
       "      <td>384</td>\n",
       "      <td>FAILED</td>\n",
       "      <td>9</td>\n",
       "      <td>44</td>\n",
       "      <td>fsync</td>\n",
       "      <td>1665</td>\n",
       "      <td>60</td>\n",
       "      <td>...</td>\n",
       "      <td>NaN</td>\n",
       "      <td>NaN</td>\n",
       "      <td>NaN</td>\n",
       "      <td>NaN</td>\n",
       "      <td>NaN</td>\n",
       "      <td>NaN</td>\n",
       "      <td>NaN</td>\n",
       "      <td>NaN</td>\n",
       "      <td>NaN</td>\n",
       "      <td>NaN</td>\n",
       "    </tr>\n",
       "    <tr>\n",
       "      <th>3</th>\n",
       "      <td>4</td>\n",
       "      <td>2023-07-20 21:09:04</td>\n",
       "      <td>2023-07-20 21:12:11</td>\n",
       "      <td>419</td>\n",
       "      <td>FAILED</td>\n",
       "      <td>92</td>\n",
       "      <td>46</td>\n",
       "      <td>fsync</td>\n",
       "      <td>1381</td>\n",
       "      <td>45</td>\n",
       "      <td>...</td>\n",
       "      <td>NaN</td>\n",
       "      <td>NaN</td>\n",
       "      <td>NaN</td>\n",
       "      <td>NaN</td>\n",
       "      <td>NaN</td>\n",
       "      <td>NaN</td>\n",
       "      <td>NaN</td>\n",
       "      <td>NaN</td>\n",
       "      <td>NaN</td>\n",
       "      <td>NaN</td>\n",
       "    </tr>\n",
       "    <tr>\n",
       "      <th>4</th>\n",
       "      <td>5</td>\n",
       "      <td>2023-07-20 21:12:11</td>\n",
       "      <td>2023-07-20 21:26:44</td>\n",
       "      <td>420</td>\n",
       "      <td>SUCCEEDED</td>\n",
       "      <td>52</td>\n",
       "      <td>42</td>\n",
       "      <td>O_DSYNC</td>\n",
       "      <td>1861</td>\n",
       "      <td>34</td>\n",
       "      <td>...</td>\n",
       "      <td>106.745112</td>\n",
       "      <td>26.612829</td>\n",
       "      <td>95.0</td>\n",
       "      <td>955.876192</td>\n",
       "      <td>0.0</td>\n",
       "      <td>106.745112</td>\n",
       "      <td>0.0</td>\n",
       "      <td>600.273162</td>\n",
       "      <td>1341.824690</td>\n",
       "      <td>359.335669</td>\n",
       "    </tr>\n",
       "  </tbody>\n",
       "</table>\n",
       "<p>5 rows × 24 columns</p>\n",
       "</div>"
      ],
      "text/plain": [
       "   trial_id            ts_start              ts_end  config_id     status  \\\n",
       "0         1 2023-07-20 20:18:30 2023-07-20 20:51:50        382  SUCCEEDED   \n",
       "1         2 2023-07-20 20:51:51 2023-07-20 21:06:20        383  SUCCEEDED   \n",
       "2         3 2023-07-20 21:06:20 2023-07-20 21:09:04        384     FAILED   \n",
       "3         4 2023-07-20 21:09:04 2023-07-20 21:12:11        419     FAILED   \n",
       "4         5 2023-07-20 21:12:11 2023-07-20 21:26:44        420  SUCCEEDED   \n",
       "\n",
       "   config.innodb_buffer_pool_dump_pct  config.innodb_buffer_pool_instances  \\\n",
       "0                                 100                                    8   \n",
       "1                                  78                                    2   \n",
       "2                                   9                                   44   \n",
       "3                                  92                                   46   \n",
       "4                                  52                                   42   \n",
       "\n",
       "  config.innodb_flush_method  config.innodb_log_buffer_size  \\\n",
       "0                      fsync                             16   \n",
       "1                    O_DSYNC                            461   \n",
       "2                      fsync                           1665   \n",
       "3                      fsync                           1381   \n",
       "4                    O_DSYNC                           1861   \n",
       "\n",
       "   config.innodb_old_blocks_pct  ...  result.latency_pct  result.other  \\\n",
       "0                            37  ...           69.289067     39.732553   \n",
       "1                            23  ...           99.327030     31.044015   \n",
       "2                            60  ...                 NaN           NaN   \n",
       "3                            45  ...                 NaN           NaN   \n",
       "4                            34  ...          106.745112     26.612829   \n",
       "\n",
       "   result.percentile  result.reads  result.reconnects  result.score  \\\n",
       "0               95.0   1424.230357                0.0     69.289067   \n",
       "1               95.0   1101.909230                0.0     99.327030   \n",
       "2                NaN           NaN                NaN           NaN   \n",
       "3                NaN           NaN                NaN           NaN   \n",
       "4               95.0    955.876192                0.0    106.745112   \n",
       "\n",
       "   result.threads  result.time  result.total  result.writes  \n",
       "0             0.0   600.010582   1998.272415     534.309505  \n",
       "1             0.0   600.178903   1544.614672     411.661428  \n",
       "2             NaN          NaN           NaN            NaN  \n",
       "3             NaN          NaN           NaN            NaN  \n",
       "4             0.0   600.273162   1341.824690     359.335669  \n",
       "\n",
       "[5 rows x 24 columns]"
      ]
     },
     "execution_count": 5,
     "metadata": {},
     "output_type": "execute_result"
    }
   ],
   "source": [
    "df = exp.results\n",
    "df.head()"
   ]
  },
  {
   "cell_type": "code",
   "execution_count": 6,
   "id": "599843df",
   "metadata": {},
   "outputs": [
    {
     "data": {
      "text/plain": [
       "trial_id                                                 2\n",
       "ts_start                               2023-07-20 20:51:51\n",
       "ts_end                                 2023-07-20 21:06:20\n",
       "config_id                                              383\n",
       "status                                           SUCCEEDED\n",
       "config.innodb_buffer_pool_dump_pct                      78\n",
       "config.innodb_buffer_pool_instances                      2\n",
       "config.innodb_flush_method                         O_DSYNC\n",
       "config.innodb_log_buffer_size                          461\n",
       "config.innodb_old_blocks_pct                            23\n",
       "config.join_buffer_size                             797475\n",
       "config.sort_buffer_size                               5568\n",
       "result.errors                                          0.0\n",
       "result.events                                  1544.614672\n",
       "result.latency_pct                                99.32703\n",
       "result.other                                     31.044015\n",
       "result.percentile                                     95.0\n",
       "result.reads                                    1101.90923\n",
       "result.reconnects                                      0.0\n",
       "result.score                                      99.32703\n",
       "result.threads                                         0.0\n",
       "result.time                                     600.178903\n",
       "result.total                                   1544.614672\n",
       "result.writes                                   411.661428\n",
       "Name: 1, dtype: object"
      ]
     },
     "execution_count": 6,
     "metadata": {},
     "output_type": "execute_result"
    }
   ],
   "source": [
    "df.loc[1]"
   ]
  },
  {
   "cell_type": "markdown",
   "id": "613f5d14",
   "metadata": {},
   "source": [
    "### Plot the results"
   ]
  },
  {
   "cell_type": "code",
   "execution_count": 7,
   "id": "3d850fd2",
   "metadata": {},
   "outputs": [],
   "source": [
    "METRIC = \"config.innodb_buffer_pool_instances\"\n",
    "SCORE = \"result.score\"\n",
    "CATEGORY = \"config.innodb_flush_method\""
   ]
  },
  {
   "cell_type": "code",
   "execution_count": 8,
   "id": "538a56b7",
   "metadata": {},
   "outputs": [
    {
     "data": {
      "image/png": "[encoded data removed]",
      "text/plain": [
       "<Figure size 1000x300 with 1 Axes>"
      ]
     },
     "metadata": {},
     "output_type": "display_data"
    }
   ],
   "source": [
    "plt.rcParams[\"figure.figsize\"] = (10, 3)\n",
    "\n",
    "sns.scatterplot(data=df, x=METRIC, y=SCORE, hue=CATEGORY, marker='o', alpha=0.7)\n",
    "\n",
    "plt.axvline(x=8, color=\"#888888\", alpha=0.8)\n",
    "plt.text(8.5, 143, \"Improved\\nconfiguration\", horizontalalignment='left', size='medium', color='black')\n",
    "\n",
    "plt.axvline(x=20, color=\"#888888\", alpha=0.8)\n",
    "plt.text(20.5, 143, \"Default\\nconfiguration\", horizontalalignment='left', size='medium', color='black')\n",
    "\n",
    "plt.title(\"Experiment: \" + exp.exp_id)\n",
    "plt.grid()\n",
    "plt.show()"
   ]
  },
  {
   "cell_type": "markdown",
   "id": "dabe243c",
   "metadata": {},
   "source": [
    "## Look at some other experiment"
   ]
  },
  {
   "cell_type": "code",
   "execution_count": 9,
   "id": "ac49fd85",
   "metadata": {},
   "outputs": [],
   "source": [
    "exp_bench = storage.experiments[\"mysql-innodb-bseries-v346-vmcontrol\"]\n",
    "df_bench = exp_bench.results"
   ]
  },
  {
   "cell_type": "code",
   "execution_count": 10,
   "id": "0e707a3d",
   "metadata": {},
   "outputs": [
    {
     "data": {
      "image/png": "[encoded data removed]",
      "text/plain": [
       "<Figure size 600x400 with 1 Axes>"
      ]
     },
     "metadata": {},
     "output_type": "display_data"
    }
   ],
   "source": [
    "plt.rcParams[\"figure.figsize\"] = (6, 4)\n",
    "\n",
    "sns.violinplot(data=df_bench, x=METRIC, y=SCORE)\n",
    "\n",
    "plt.title(\"Experiment: \" + exp_bench.exp_id)\n",
    "plt.grid()\n",
    "plt.show()"
   ]
  },
  {
   "cell_type": "markdown",
   "id": "07427108",
   "metadata": {},
   "source": [
    "## Extra: access the data of an individual trial"
   ]
  },
  {
   "cell_type": "code",
   "execution_count": 11,
   "id": "3c8c04a2",
   "metadata": {},
   "outputs": [
    {
     "data": {
      "text/plain": [
       "mysql-innodb-buf:16 config:705 SUCCEEDED"
      ]
     },
     "execution_count": 11,
     "metadata": {},
     "output_type": "execute_result"
    }
   ],
   "source": [
    "trial = storage.experiments[\"mysql-innodb-buf\"].trials[16]\n",
    "trial"
   ]
  },
  {
   "cell_type": "code",
   "execution_count": 12,
   "id": "9c82f3c4",
   "metadata": {},
   "outputs": [
    {
     "data": {
      "text/html": [
       "<div>\n",
       "<style scoped>\n",
       "    .dataframe tbody tr th:only-of-type {\n",
       "        vertical-align: middle;\n",
       "    }\n",
       "\n",
       "    .dataframe tbody tr th {\n",
       "        vertical-align: top;\n",
       "    }\n",
       "\n",
       "    .dataframe thead th {\n",
       "        text-align: right;\n",
       "    }\n",
       "</style>\n",
       "<table border=\"1\" class=\"dataframe\">\n",
       "  <thead>\n",
       "    <tr style=\"text-align: right;\">\n",
       "      <th></th>\n",
       "      <th>parameter</th>\n",
       "      <th>value</th>\n",
       "    </tr>\n",
       "  </thead>\n",
       "  <tbody>\n",
       "    <tr>\n",
       "      <th>0</th>\n",
       "      <td>innodb_buffer_pool_dump_pct</td>\n",
       "      <td>74</td>\n",
       "    </tr>\n",
       "    <tr>\n",
       "      <th>1</th>\n",
       "      <td>innodb_buffer_pool_instances</td>\n",
       "      <td>16</td>\n",
       "    </tr>\n",
       "    <tr>\n",
       "      <th>2</th>\n",
       "      <td>innodb_flush_method</td>\n",
       "      <td>O_DIRECT</td>\n",
       "    </tr>\n",
       "    <tr>\n",
       "      <th>3</th>\n",
       "      <td>innodb_log_buffer_size</td>\n",
       "      <td>663</td>\n",
       "    </tr>\n",
       "    <tr>\n",
       "      <th>4</th>\n",
       "      <td>innodb_old_blocks_pct</td>\n",
       "      <td>92</td>\n",
       "    </tr>\n",
       "    <tr>\n",
       "      <th>5</th>\n",
       "      <td>join_buffer_size</td>\n",
       "      <td>280313</td>\n",
       "    </tr>\n",
       "    <tr>\n",
       "      <th>6</th>\n",
       "      <td>sort_buffer_size</td>\n",
       "      <td>31080</td>\n",
       "    </tr>\n",
       "  </tbody>\n",
       "</table>\n",
       "</div>"
      ],
      "text/plain": [
       "                      parameter     value\n",
       "0   innodb_buffer_pool_dump_pct        74\n",
       "1  innodb_buffer_pool_instances        16\n",
       "2           innodb_flush_method  O_DIRECT\n",
       "3        innodb_log_buffer_size       663\n",
       "4         innodb_old_blocks_pct        92\n",
       "5              join_buffer_size    280313\n",
       "6              sort_buffer_size     31080"
      ]
     },
     "execution_count": 12,
     "metadata": {},
     "output_type": "execute_result"
    }
   ],
   "source": [
    "trial.config"
   ]
  },
  {
   "cell_type": "code",
   "execution_count": 13,
   "id": "9fec4225",
   "metadata": {},
   "outputs": [
    {
     "data": {
      "text/html": [
       "<div>\n",
       "<style scoped>\n",
       "    .dataframe tbody tr th:only-of-type {\n",
       "        vertical-align: middle;\n",
       "    }\n",
       "\n",
       "    .dataframe tbody tr th {\n",
       "        vertical-align: top;\n",
       "    }\n",
       "\n",
       "    .dataframe thead th {\n",
       "        text-align: right;\n",
       "    }\n",
       "</style>\n",
       "<table border=\"1\" class=\"dataframe\">\n",
       "  <thead>\n",
       "    <tr style=\"text-align: right;\">\n",
       "      <th></th>\n",
       "      <th>parameter</th>\n",
       "      <th>value</th>\n",
       "    </tr>\n",
       "  </thead>\n",
       "  <tbody>\n",
       "    <tr>\n",
       "      <th>0</th>\n",
       "      <td>opt_direction</td>\n",
       "      <td>min</td>\n",
       "    </tr>\n",
       "    <tr>\n",
       "      <th>1</th>\n",
       "      <td>opt_target</td>\n",
       "      <td>score</td>\n",
       "    </tr>\n",
       "    <tr>\n",
       "      <th>2</th>\n",
       "      <td>optimizer</td>\n",
       "      <td>MlosCoreOptimizer:FlamlOptimizer</td>\n",
       "    </tr>\n",
       "  </tbody>\n",
       "</table>\n",
       "</div>"
      ],
      "text/plain": [
       "       parameter                             value\n",
       "0  opt_direction                               min\n",
       "1     opt_target                             score\n",
       "2      optimizer  MlosCoreOptimizer:FlamlOptimizer"
      ]
     },
     "execution_count": 13,
     "metadata": {},
     "output_type": "execute_result"
    }
   ],
   "source": [
    "trial.metadata"
   ]
  },
  {
   "cell_type": "code",
   "execution_count": 14,
   "id": "d8618577",
   "metadata": {},
   "outputs": [
    {
     "data": {
      "text/html": [
       "<div>\n",
       "<style scoped>\n",
       "    .dataframe tbody tr th:only-of-type {\n",
       "        vertical-align: middle;\n",
       "    }\n",
       "\n",
       "    .dataframe tbody tr th {\n",
       "        vertical-align: top;\n",
       "    }\n",
       "\n",
       "    .dataframe thead th {\n",
       "        text-align: right;\n",
       "    }\n",
       "</style>\n",
       "<table border=\"1\" class=\"dataframe\">\n",
       "  <thead>\n",
       "    <tr style=\"text-align: right;\">\n",
       "      <th></th>\n",
       "      <th>metric</th>\n",
       "      <th>value</th>\n",
       "    </tr>\n",
       "  </thead>\n",
       "  <tbody>\n",
       "    <tr>\n",
       "      <th>0</th>\n",
       "      <td>errors</td>\n",
       "      <td>0.0</td>\n",
       "    </tr>\n",
       "    <tr>\n",
       "      <th>1</th>\n",
       "      <td>events</td>\n",
       "      <td>1731.702333</td>\n",
       "    </tr>\n",
       "    <tr>\n",
       "      <th>2</th>\n",
       "      <td>latency_pct</td>\n",
       "      <td>55.824272</td>\n",
       "    </tr>\n",
       "    <tr>\n",
       "      <th>3</th>\n",
       "      <td>other</td>\n",
       "      <td>35.176485</td>\n",
       "    </tr>\n",
       "    <tr>\n",
       "      <th>4</th>\n",
       "      <td>percentile</td>\n",
       "      <td>95.0</td>\n",
       "    </tr>\n",
       "    <tr>\n",
       "      <th>5</th>\n",
       "      <td>reads</td>\n",
       "      <td>1234.730116</td>\n",
       "    </tr>\n",
       "    <tr>\n",
       "      <th>6</th>\n",
       "      <td>reconnects</td>\n",
       "      <td>0.0</td>\n",
       "    </tr>\n",
       "    <tr>\n",
       "      <th>7</th>\n",
       "      <td>score</td>\n",
       "      <td>55.824272</td>\n",
       "    </tr>\n",
       "    <tr>\n",
       "      <th>8</th>\n",
       "      <td>threads</td>\n",
       "      <td>0.0</td>\n",
       "    </tr>\n",
       "    <tr>\n",
       "      <th>9</th>\n",
       "      <td>time</td>\n",
       "      <td>600.029641</td>\n",
       "    </tr>\n",
       "    <tr>\n",
       "      <th>10</th>\n",
       "      <td>total</td>\n",
       "      <td>1731.702333</td>\n",
       "    </tr>\n",
       "    <tr>\n",
       "      <th>11</th>\n",
       "      <td>writes</td>\n",
       "      <td>461.795733</td>\n",
       "    </tr>\n",
       "  </tbody>\n",
       "</table>\n",
       "</div>"
      ],
      "text/plain": [
       "         metric        value\n",
       "0        errors          0.0\n",
       "1        events  1731.702333\n",
       "2   latency_pct    55.824272\n",
       "3         other    35.176485\n",
       "4    percentile         95.0\n",
       "5         reads  1234.730116\n",
       "6    reconnects          0.0\n",
       "7         score    55.824272\n",
       "8       threads          0.0\n",
       "9          time   600.029641\n",
       "10        total  1731.702333\n",
       "11       writes   461.795733"
      ]
     },
     "execution_count": 14,
     "metadata": {},
     "output_type": "execute_result"
    }
   ],
   "source": [
    "trial.results"
   ]
  },
  {
   "cell_type": "code",
   "execution_count": 15,
   "id": "688cfdc2",
   "metadata": {
    "scrolled": false
   },
   "outputs": [
    {
     "data": {
      "text/html": [
       "<div>\n",
       "<style scoped>\n",
       "    .dataframe tbody tr th:only-of-type {\n",
       "        vertical-align: middle;\n",
       "    }\n",
       "\n",
       "    .dataframe tbody tr th {\n",
       "        vertical-align: top;\n",
       "    }\n",
       "\n",
       "    .dataframe thead th {\n",
       "        text-align: right;\n",
       "    }\n",
       "</style>\n",
       "<table border=\"1\" class=\"dataframe\">\n",
       "  <thead>\n",
       "    <tr style=\"text-align: right;\">\n",
       "      <th></th>\n",
       "      <th>ts</th>\n",
       "      <th>metric</th>\n",
       "      <th>value</th>\n",
       "    </tr>\n",
       "  </thead>\n",
       "  <tbody>\n",
       "    <tr>\n",
       "      <th>0</th>\n",
       "      <td>2023-09-25 19:30:24</td>\n",
       "      <td>errors</td>\n",
       "      <td>0.0</td>\n",
       "    </tr>\n",
       "    <tr>\n",
       "      <th>1</th>\n",
       "      <td>2023-09-25 19:30:24</td>\n",
       "      <td>events</td>\n",
       "      <td>1770.030204</td>\n",
       "    </tr>\n",
       "    <tr>\n",
       "      <th>2</th>\n",
       "      <td>2023-09-25 19:30:24</td>\n",
       "      <td>latency_pct</td>\n",
       "      <td>50.107444</td>\n",
       "    </tr>\n",
       "    <tr>\n",
       "      <th>3</th>\n",
       "      <td>2023-09-25 19:30:24</td>\n",
       "      <td>other</td>\n",
       "      <td>36.048579</td>\n",
       "    </tr>\n",
       "    <tr>\n",
       "      <th>4</th>\n",
       "      <td>2023-09-25 19:30:24</td>\n",
       "      <td>percentile</td>\n",
       "      <td>95.0</td>\n",
       "    </tr>\n",
       "    <tr>\n",
       "      <th>...</th>\n",
       "      <td>...</td>\n",
       "      <td>...</td>\n",
       "      <td>...</td>\n",
       "    </tr>\n",
       "    <tr>\n",
       "      <th>115</th>\n",
       "      <td>2023-09-25 19:39:24</td>\n",
       "      <td>score</td>\n",
       "      <td>54.828067</td>\n",
       "    </tr>\n",
       "    <tr>\n",
       "      <th>116</th>\n",
       "      <td>2023-09-25 19:39:24</td>\n",
       "      <td>threads</td>\n",
       "      <td>30.0</td>\n",
       "    </tr>\n",
       "    <tr>\n",
       "      <th>117</th>\n",
       "      <td>2023-09-25 19:39:24</td>\n",
       "      <td>time</td>\n",
       "      <td>600.000436</td>\n",
       "    </tr>\n",
       "    <tr>\n",
       "      <th>118</th>\n",
       "      <td>2023-09-25 19:39:24</td>\n",
       "      <td>total</td>\n",
       "      <td>1728.884971</td>\n",
       "    </tr>\n",
       "    <tr>\n",
       "      <th>119</th>\n",
       "      <td>2023-09-25 19:39:24</td>\n",
       "      <td>writes</td>\n",
       "      <td>461.43377</td>\n",
       "    </tr>\n",
       "  </tbody>\n",
       "</table>\n",
       "<p>120 rows × 3 columns</p>\n",
       "</div>"
      ],
      "text/plain": [
       "                     ts       metric        value\n",
       "0   2023-09-25 19:30:24       errors          0.0\n",
       "1   2023-09-25 19:30:24       events  1770.030204\n",
       "2   2023-09-25 19:30:24  latency_pct    50.107444\n",
       "3   2023-09-25 19:30:24        other    36.048579\n",
       "4   2023-09-25 19:30:24   percentile         95.0\n",
       "..                  ...          ...          ...\n",
       "115 2023-09-25 19:39:24        score    54.828067\n",
       "116 2023-09-25 19:39:24      threads         30.0\n",
       "117 2023-09-25 19:39:24         time   600.000436\n",
       "118 2023-09-25 19:39:24        total  1728.884971\n",
       "119 2023-09-25 19:39:24       writes    461.43377\n",
       "\n",
       "[120 rows x 3 columns]"
      ]
     },
     "execution_count": 15,
     "metadata": {},
     "output_type": "execute_result"
    }
   ],
   "source": [
    "trial.telemetry"
   ]
  }
 ],
 "metadata": {
  "kernelspec": {
   "display_name": "Python [conda env:mlos] *",
   "language": "python",
   "name": "conda-env-mlos-py"
  },
  "language_info": {
   "codemirror_mode": {
    "name": "ipython",
    "version": 3
   },
   "file_extension": ".py",
   "mimetype": "text/x-python",
   "name": "python",
   "nbconvert_exporter": "python",
   "pygments_lexer": "ipython3",
   "version": "3.11.4"
  }
 },
 "nbformat": 4,
 "nbformat_minor": 5
}
