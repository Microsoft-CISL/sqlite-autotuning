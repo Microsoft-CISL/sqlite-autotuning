{
 "cells": [
  {
   "cell_type": "code",
   "execution_count": 1,
   "id": "48aadee0",
   "metadata": {},
   "outputs": [],
   "source": [
    "import json5\n",
    "import pandas\n",
    "from matplotlib import pyplot as plt\n",
    "import seaborn as sns\n",
    "\n",
    "from mlos_bench.storage import from_config"
   ]
  },
  {
   "cell_type": "markdown",
   "id": "2ddb84fb",
   "metadata": {},
   "source": [
    "### Connect using existing mlos_bench configs"
   ]
  },
  {
   "cell_type": "code",
   "execution_count": 3,
   "id": "ccca92e3",
   "metadata": {},
   "outputs": [],
   "source": [
    "storage = from_config(config_file=\"storage/sqlite.jsonc\")"
   ]
  },
  {
   "cell_type": "markdown",
   "id": "caa2feab",
   "metadata": {},
   "source": [
    "### Load a sqlite Experiment"
   ]
  },
  {
   "cell_type": "code",
   "execution_count": 9,
   "id": "a4956fa2",
   "metadata": {},
   "outputs": [
    {
     "data": {
      "text/plain": [
       "'sqlite-sync-journal-pagesize-caching-experiment'"
      ]
     },
     "execution_count": 9,
     "metadata": {},
     "output_type": "execute_result"
    }
   ],
   "source": [
    "experiment_globals = \"config/experiments/sqlite-sync-journal-pagesize-caching-experiment.jsonc\"\n",
    "\n",
    "with open(experiment_globals, mode='r') as f:\n",
    "    experiment_id = json5.load(f)['experiment_id']\n",
    "experiment_id"
   ]
  },
  {
   "cell_type": "markdown",
   "id": "0fae2e0b",
   "metadata": {},
   "source": [
    "## Get all data for one experiment"
   ]
  },
  {
   "cell_type": "code",
   "execution_count": 10,
   "id": "f6c525fd",
   "metadata": {},
   "outputs": [
    {
     "data": {
      "text/plain": [
       "Experiment :: sqlite-sync-journal-pagesize-caching-experiment"
      ]
     },
     "execution_count": 10,
     "metadata": {},
     "output_type": "execute_result"
    }
   ],
   "source": [
    "exp = storage.experiments[experiment_id]\n",
    "exp"
   ]
  },
  {
   "cell_type": "code",
   "execution_count": 11,
   "id": "bd7d3f2d",
   "metadata": {
    "scrolled": false
   },
   "outputs": [
    {
     "data": {
      "text/html": [
       "<div>\n",
       "<style scoped>\n",
       "    .dataframe tbody tr th:only-of-type {\n",
       "        vertical-align: middle;\n",
       "    }\n",
       "\n",
       "    .dataframe tbody tr th {\n",
       "        vertical-align: top;\n",
       "    }\n",
       "\n",
       "    .dataframe thead th {\n",
       "        text-align: right;\n",
       "    }\n",
       "</style>\n",
       "<table border=\"1\" class=\"dataframe\">\n",
       "  <thead>\n",
       "    <tr style=\"text-align: right;\">\n",
       "      <th></th>\n",
       "      <th>trial_id</th>\n",
       "      <th>ts_start</th>\n",
       "      <th>ts_end</th>\n",
       "      <th>config_id</th>\n",
       "      <th>status</th>\n",
       "      <th>config.cache_size</th>\n",
       "      <th>config.journal_mode</th>\n",
       "      <th>config.journal_size_limit</th>\n",
       "      <th>config.mmap_size</th>\n",
       "      <th>config.page_size</th>\n",
       "      <th>...</th>\n",
       "      <th>result.Socket messages received</th>\n",
       "      <th>result.Socket messages sent</th>\n",
       "      <th>result.Swaps</th>\n",
       "      <th>result.System time (seconds)</th>\n",
       "      <th>result.Throughput (requests/second)</th>\n",
       "      <th>result.User time (seconds)</th>\n",
       "      <th>result.Voluntary context switches</th>\n",
       "      <th>result.isolation</th>\n",
       "      <th>result.scalefactor</th>\n",
       "      <th>result.terminals</th>\n",
       "    </tr>\n",
       "  </thead>\n",
       "  <tbody>\n",
       "    <tr>\n",
       "      <th>0</th>\n",
       "      <td>0</td>\n",
       "      <td>2023-10-10 21:24:47.492927</td>\n",
       "      <td>2023-10-10 21:25:49.387720</td>\n",
       "      <td>710</td>\n",
       "      <td>SUCCEEDED</td>\n",
       "      <td>1</td>\n",
       "      <td>delete</td>\n",
       "      <td>-1</td>\n",
       "      <td>-1</td>\n",
       "      <td>4096</td>\n",
       "      <td>...</td>\n",
       "      <td>0</td>\n",
       "      <td>0</td>\n",
       "      <td>0</td>\n",
       "      <td>3.61</td>\n",
       "      <td>24.916242</td>\n",
       "      <td>5.40</td>\n",
       "      <td>117445</td>\n",
       "      <td>TRANSACTION_SERIALIZABLE</td>\n",
       "      <td>1</td>\n",
       "      <td>1</td>\n",
       "    </tr>\n",
       "    <tr>\n",
       "      <th>1</th>\n",
       "      <td>1</td>\n",
       "      <td>2023-10-10 21:25:49.431382</td>\n",
       "      <td>2023-10-10 21:26:51.449788</td>\n",
       "      <td>711</td>\n",
       "      <td>SUCCEEDED</td>\n",
       "      <td>1656398469</td>\n",
       "      <td>truncate</td>\n",
       "      <td>1633227268</td>\n",
       "      <td>363162755</td>\n",
       "      <td>2048</td>\n",
       "      <td>...</td>\n",
       "      <td>0</td>\n",
       "      <td>0</td>\n",
       "      <td>0</td>\n",
       "      <td>3.90</td>\n",
       "      <td>136.398333</td>\n",
       "      <td>10.37</td>\n",
       "      <td>116366</td>\n",
       "      <td>TRANSACTION_SERIALIZABLE</td>\n",
       "      <td>1</td>\n",
       "      <td>1</td>\n",
       "    </tr>\n",
       "    <tr>\n",
       "      <th>2</th>\n",
       "      <td>2</td>\n",
       "      <td>2023-10-10 21:26:51.496642</td>\n",
       "      <td>2023-10-10 21:27:53.904873</td>\n",
       "      <td>712</td>\n",
       "      <td>SUCCEEDED</td>\n",
       "      <td>1281136238</td>\n",
       "      <td>off</td>\n",
       "      <td>704594</td>\n",
       "      <td>779126884</td>\n",
       "      <td>2048</td>\n",
       "      <td>...</td>\n",
       "      <td>0</td>\n",
       "      <td>0</td>\n",
       "      <td>0</td>\n",
       "      <td>2.21</td>\n",
       "      <td>143.849273</td>\n",
       "      <td>11.09</td>\n",
       "      <td>101870</td>\n",
       "      <td>TRANSACTION_SERIALIZABLE</td>\n",
       "      <td>1</td>\n",
       "      <td>1</td>\n",
       "    </tr>\n",
       "    <tr>\n",
       "      <th>3</th>\n",
       "      <td>3</td>\n",
       "      <td>2023-10-10 21:27:53.953987</td>\n",
       "      <td>2023-10-10 21:28:56.350663</td>\n",
       "      <td>713</td>\n",
       "      <td>SUCCEEDED</td>\n",
       "      <td>948829517</td>\n",
       "      <td>wal</td>\n",
       "      <td>1120228729</td>\n",
       "      <td>1951308613</td>\n",
       "      <td>8192</td>\n",
       "      <td>...</td>\n",
       "      <td>0</td>\n",
       "      <td>0</td>\n",
       "      <td>0</td>\n",
       "      <td>1.66</td>\n",
       "      <td>138.747777</td>\n",
       "      <td>11.44</td>\n",
       "      <td>93873</td>\n",
       "      <td>TRANSACTION_SERIALIZABLE</td>\n",
       "      <td>1</td>\n",
       "      <td>1</td>\n",
       "    </tr>\n",
       "    <tr>\n",
       "      <th>4</th>\n",
       "      <td>4</td>\n",
       "      <td>2023-10-10 21:28:56.401313</td>\n",
       "      <td>2023-10-10 21:29:59.232525</td>\n",
       "      <td>714</td>\n",
       "      <td>SUCCEEDED</td>\n",
       "      <td>699030920</td>\n",
       "      <td>persist</td>\n",
       "      <td>2027784438</td>\n",
       "      <td>2120909557</td>\n",
       "      <td>8192</td>\n",
       "      <td>...</td>\n",
       "      <td>0</td>\n",
       "      <td>0</td>\n",
       "      <td>0</td>\n",
       "      <td>12.76</td>\n",
       "      <td>2049.177860</td>\n",
       "      <td>56.30</td>\n",
       "      <td>76037</td>\n",
       "      <td>TRANSACTION_SERIALIZABLE</td>\n",
       "      <td>1</td>\n",
       "      <td>1</td>\n",
       "    </tr>\n",
       "  </tbody>\n",
       "</table>\n",
       "<p>5 rows × 53 columns</p>\n",
       "</div>"
      ],
      "text/plain": [
       "   trial_id                   ts_start                     ts_end  config_id  \\\n",
       "0         0 2023-10-10 21:24:47.492927 2023-10-10 21:25:49.387720        710   \n",
       "1         1 2023-10-10 21:25:49.431382 2023-10-10 21:26:51.449788        711   \n",
       "2         2 2023-10-10 21:26:51.496642 2023-10-10 21:27:53.904873        712   \n",
       "3         3 2023-10-10 21:27:53.953987 2023-10-10 21:28:56.350663        713   \n",
       "4         4 2023-10-10 21:28:56.401313 2023-10-10 21:29:59.232525        714   \n",
       "\n",
       "      status  config.cache_size config.journal_mode  \\\n",
       "0  SUCCEEDED                  1              delete   \n",
       "1  SUCCEEDED         1656398469            truncate   \n",
       "2  SUCCEEDED         1281136238                 off   \n",
       "3  SUCCEEDED          948829517                 wal   \n",
       "4  SUCCEEDED          699030920             persist   \n",
       "\n",
       "   config.journal_size_limit  config.mmap_size  config.page_size  ...  \\\n",
       "0                         -1                -1              4096  ...   \n",
       "1                 1633227268         363162755              2048  ...   \n",
       "2                     704594         779126884              2048  ...   \n",
       "3                 1120228729        1951308613              8192  ...   \n",
       "4                 2027784438        2120909557              8192  ...   \n",
       "\n",
       "  result.Socket messages received result.Socket messages sent  result.Swaps  \\\n",
       "0                               0                           0             0   \n",
       "1                               0                           0             0   \n",
       "2                               0                           0             0   \n",
       "3                               0                           0             0   \n",
       "4                               0                           0             0   \n",
       "\n",
       "   result.System time (seconds)  result.Throughput (requests/second)  \\\n",
       "0                          3.61                            24.916242   \n",
       "1                          3.90                           136.398333   \n",
       "2                          2.21                           143.849273   \n",
       "3                          1.66                           138.747777   \n",
       "4                         12.76                          2049.177860   \n",
       "\n",
       "   result.User time (seconds)  result.Voluntary context switches  \\\n",
       "0                        5.40                             117445   \n",
       "1                       10.37                             116366   \n",
       "2                       11.09                             101870   \n",
       "3                       11.44                              93873   \n",
       "4                       56.30                              76037   \n",
       "\n",
       "           result.isolation  result.scalefactor  result.terminals  \n",
       "0  TRANSACTION_SERIALIZABLE                   1                 1  \n",
       "1  TRANSACTION_SERIALIZABLE                   1                 1  \n",
       "2  TRANSACTION_SERIALIZABLE                   1                 1  \n",
       "3  TRANSACTION_SERIALIZABLE                   1                 1  \n",
       "4  TRANSACTION_SERIALIZABLE                   1                 1  \n",
       "\n",
       "[5 rows x 53 columns]"
      ]
     },
     "execution_count": 11,
     "metadata": {},
     "output_type": "execute_result"
    }
   ],
   "source": [
    "df = exp.results\n",
    "df.head()"
   ]
  },
  {
   "cell_type": "code",
   "execution_count": 28,
   "id": "599843df",
   "metadata": {},
   "outputs": [
    {
     "data": {
      "text/plain": [
       "trial_id                                                                                              1\n",
       "ts_start                                                                     2023-10-10 21:25:49.431382\n",
       "ts_end                                                                       2023-10-10 21:26:51.449788\n",
       "config_id                                                                                           711\n",
       "status                                                                                        SUCCEEDED\n",
       "config.cache_size                                                                            1656398469\n",
       "config.journal_mode                                                                            truncate\n",
       "config.journal_size_limit                                                                    1633227268\n",
       "config.mmap_size                                                                              363162755\n",
       "config.page_size                                                                                   2048\n",
       "config.synchronous                                                                               normal\n",
       "config.temp_store                                                                                memory\n",
       "result.25th Percentile Latency (microseconds)                                                      6066\n",
       "result.75th Percentile Latency (microseconds)                                                      8222\n",
       "result.90th Percentile Latency (microseconds)                                                     10294\n",
       "result.95th Percentile Latency (microseconds)                                                     14931\n",
       "result.99th Percentile Latency (microseconds)                                                     17323\n",
       "result.Average Latency (microseconds)                                                              7311\n",
       "result.Average resident set size (kbytes)                                                             0\n",
       "result.Average shared text size (kbytes)                                                              0\n",
       "result.Average stack size (kbytes)                                                                    0\n",
       "result.Average total size (kbytes)                                                                    0\n",
       "result.Average unshared data size (kbytes)                                                            0\n",
       "result.Benchmark Type                                                                              tpcc\n",
       "result.Command being timed                            /benchbase/entrypoint.sh -b tpcc -c /benchbase...\n",
       "result.Current Timestamp (milliseconds)                                                   1696973211128\n",
       "result.DBMS Type                                                                                 SQLITE\n",
       "result.DBMS Version                                                                                 nan\n",
       "result.Elapsed (wall clock) time (h:mm:ss or m:ss)                                              1:01.01\n",
       "result.Exit status                                                                                    0\n",
       "result.File system inputs                                                                             0\n",
       "result.File system outputs                                                                      1865536\n",
       "result.Goodput (requests/second)                                                             135.881673\n",
       "result.Involuntary context switches                                                                 204\n",
       "result.Major (requiring I/O) page faults                                                             16\n",
       "result.Maximum Latency (microseconds)                                                             40195\n",
       "result.Maximum resident set size (kbytes)                                                        637820\n",
       "result.Median Latency (microseconds)                                                               7239\n",
       "result.Minimum Latency (microseconds)                                                               112\n",
       "result.Minor (reclaiming a frame) page faults                                                     58109\n",
       "result.Page size (bytes)                                                                           4096\n",
       "result.Percent of CPU this job got                                                                  23%\n",
       "result.Signals delivered                                                                              0\n",
       "result.Socket messages received                                                                       0\n",
       "result.Socket messages sent                                                                           0\n",
       "result.Swaps                                                                                          0\n",
       "result.System time (seconds)                                                                        3.9\n",
       "result.Throughput (requests/second)                                                          136.398333\n",
       "result.User time (seconds)                                                                        10.37\n",
       "result.Voluntary context switches                                                                116366\n",
       "result.isolation                                                               TRANSACTION_SERIALIZABLE\n",
       "result.scalefactor                                                                                    1\n",
       "result.terminals                                                                                      1\n",
       "Name: 1, dtype: object"
      ]
     },
     "execution_count": 28,
     "metadata": {},
     "output_type": "execute_result"
    }
   ],
   "source": [
    "df.loc[1]"
   ]
  },
  {
   "cell_type": "markdown",
   "id": "613f5d14",
   "metadata": {},
   "source": [
    "### Plot the results"
   ]
  },
  {
   "cell_type": "code",
   "execution_count": 29,
   "id": "3d850fd2",
   "metadata": {},
   "outputs": [],
   "source": [
    "METRIC = \"result.File system outputs\"\n",
    "SCORE = \"result.90th Percentile Latency (microseconds)\"\n",
    "CATEGORY = \"config.synchronous\""
   ]
  },
  {
   "cell_type": "code",
   "execution_count": 30,
   "id": "538a56b7",
   "metadata": {},
   "outputs": [
    {
     "name": "stderr",
     "output_type": "stream",
     "text": [
      "/home/vscode/.conda/envs/mlos/lib/python3.11/site-packages/seaborn/_oldcore.py:1498: FutureWarning: is_categorical_dtype is deprecated and will be removed in a future version. Use isinstance(dtype, CategoricalDtype) instead\n",
      "  if pd.api.types.is_categorical_dtype(vector):\n",
      "/home/vscode/.conda/envs/mlos/lib/python3.11/site-packages/seaborn/_oldcore.py:1498: FutureWarning: is_categorical_dtype is deprecated and will be removed in a future version. Use isinstance(dtype, CategoricalDtype) instead\n",
      "  if pd.api.types.is_categorical_dtype(vector):\n",
      "/home/vscode/.conda/envs/mlos/lib/python3.11/site-packages/seaborn/_oldcore.py:1498: FutureWarning: is_categorical_dtype is deprecated and will be removed in a future version. Use isinstance(dtype, CategoricalDtype) instead\n",
      "  if pd.api.types.is_categorical_dtype(vector):\n",
      "/home/vscode/.conda/envs/mlos/lib/python3.11/site-packages/seaborn/_oldcore.py:1498: FutureWarning: is_categorical_dtype is deprecated and will be removed in a future version. Use isinstance(dtype, CategoricalDtype) instead\n",
      "  if pd.api.types.is_categorical_dtype(vector):\n",
      "/home/vscode/.conda/envs/mlos/lib/python3.11/site-packages/seaborn/_oldcore.py:1498: FutureWarning: is_categorical_dtype is deprecated and will be removed in a future version. Use isinstance(dtype, CategoricalDtype) instead\n",
      "  if pd.api.types.is_categorical_dtype(vector):\n"
     ]
    },
    {
     "data": {
      "image/png": "[encoded data removed]",
      "text/plain": [
       "<Figure size 1000x300 with 1 Axes>"
      ]
     },
     "metadata": {},
     "output_type": "display_data"
    }
   ],
   "source": [
    "plt.rcParams[\"figure.figsize\"] = (10, 3)\n",
    "\n",
    "sns.scatterplot(data=df, x=METRIC, y=SCORE, hue=CATEGORY, marker='o', alpha=0.7)\n",
    "\n",
    "plt.axvline(x=8, color=\"#888888\", alpha=0.8)\n",
    "plt.text(8.5, 143, \"Improved\\nconfiguration\", horizontalalignment='left', size='medium', color='black')\n",
    "\n",
    "plt.axvline(x=20, color=\"#888888\", alpha=0.8)\n",
    "plt.text(20.5, 143, \"Default\\nconfiguration\", horizontalalignment='left', size='medium', color='black')\n",
    "\n",
    "plt.title(\"Experiment: \" + exp.exp_id)\n",
    "plt.grid()\n",
    "plt.show()"
   ]
  },
  {
   "cell_type": "code",
   "execution_count": null,
   "id": "54ef3911",
   "metadata": {},
   "outputs": [],
   "source": [
    "## TODO"
   ]
  }
 ],
 "metadata": {
  "kernelspec": {
   "display_name": "mlos",
   "language": "python",
   "name": "python3"
  },
  "language_info": {
   "codemirror_mode": {
    "name": "ipython",
    "version": 3
   },
   "file_extension": ".py",
   "mimetype": "text/x-python",
   "name": "python",
   "nbconvert_exporter": "python",
   "pygments_lexer": "ipython3",
   "version": "3.11.5"
  }
 },
 "nbformat": 4,
 "nbformat_minor": 5
}
