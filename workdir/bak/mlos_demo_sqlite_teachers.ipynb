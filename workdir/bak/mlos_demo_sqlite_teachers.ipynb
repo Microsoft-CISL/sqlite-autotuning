{
 "cells": [
  {
   "cell_type": "markdown",
   "id": "19b0472b",
   "metadata": {},
   "source": [
    "# mlos_bench SQLite data analysis (Teacher's copy)"
   ]
  },
  {
   "cell_type": "markdown",
   "id": "8d6d54c6-5688-4b7b-a8fc-5c83bfd1d308",
   "metadata": {},
   "source": [
    "In this notebook, we look at the data from 100 trials we ran in `mlos_bench` to find a better SQLite configuration."
   ]
  },
  {
   "cell_type": "markdown",
   "id": "32c05a23-2ce8-4826-bc00-93431e4fd7e6",
   "metadata": {},
   "source": [
    "### 1. Data collection"
   ]
  },
  {
   "cell_type": "markdown",
   "id": "7ffd2cbd",
   "metadata": {},
   "source": [
    "We used the following commands in the integrated terminal of this codespace:\n",
    "\n",
    "```sh\n",
    "conda activate mlos\n",
    "\n",
    "mlos_bench --config config/cli/local-sqlite-opt.jsonc \\\n",
    "           --globals config/experiments/sqlite-sync-journal-pagesize-caching-experiment.jsonc \\\n",
    "           --trial-config-repeat-count 3 \\\n",
    "           --max-iterations 100\n",
    "```\n",
    "\n",
    "> See Also: [README.md](./README.md) for further instructions."
   ]
  },
  {
   "cell_type": "markdown",
   "id": "7dd879e7",
   "metadata": {},
   "source": [
    "Now we can start analyzing the autotuning data produced by running the benchmark trials."
   ]
  },
  {
   "cell_type": "markdown",
   "id": "695ebcd9-9c15-4516-9306-bb4bbe2fcb6f",
   "metadata": {},
   "source": [
    "### 2. Import MLOS packages"
   ]
  },
  {
   "cell_type": "code",
   "execution_count": 1,
   "id": "2cc20772-fdeb-415d-82af-dae67a307965",
   "metadata": {},
   "outputs": [],
   "source": [
    "# Import mlos_bench Storage API to access the experimental data.\n",
    "from mlos_bench.storage import from_config"
   ]
  },
  {
   "cell_type": "markdown",
   "id": "2ddb84fb",
   "metadata": {},
   "source": [
    "### 3. Connect to the DB using existing mlos_bench configs"
   ]
  },
  {
   "cell_type": "code",
   "execution_count": 2,
   "id": "ccca92e3",
   "metadata": {},
   "outputs": [],
   "source": [
    "storage = from_config(config_file=\"storage/sqlite.jsonc\")"
   ]
  },
  {
   "cell_type": "markdown",
   "id": "caa2feab",
   "metadata": {},
   "source": [
    "### 4. Load the data for our experiment"
   ]
  },
  {
   "cell_type": "code",
   "execution_count": 3,
   "id": "a4956fa2",
   "metadata": {},
   "outputs": [
    {
     "data": {
      "text/plain": [
       "{'mysql-innodb-bseries-v346-vmcontrol': Experiment :: mysql-innodb-bseries-v346-vmcontrol: 'Azure MySQL+Sysbench Root',\n",
       " 'mysql-innodb-buf': Experiment :: mysql-innodb-buf: 'Azure MySQL+Sysbench Root',\n",
       " 'mysql-innodb-explore-D2S': Experiment :: mysql-innodb-explore-D2S: 'Azure MySQL+Sysbench Root',\n",
       " 'sqlite-sync-journal-pagesize-caching-experiment': Experiment :: sqlite-sync-journal-pagesize-caching-experiment: 'sqlite-local-benchbase'}"
      ]
     },
     "execution_count": 3,
     "metadata": {},
     "output_type": "execute_result"
    }
   ],
   "source": [
    "storage.experiments"
   ]
  },
  {
   "cell_type": "markdown",
   "id": "428c5ac1-6be2-4f02-a425-932a5f12973a",
   "metadata": {},
   "source": [
    "We see a record for our experiment in the DB. Let's look at the data associated with it."
   ]
  },
  {
   "cell_type": "code",
   "execution_count": 4,
   "id": "8eb4baf2-adca-4f86-acb9-5cfeb2b63e33",
   "metadata": {},
   "outputs": [],
   "source": [
    "experiment_id = \"sqlite-sync-journal-pagesize-caching-experiment\"\n",
    "#experiment_id = \"sqlite-opt-demo\""
   ]
  },
  {
   "cell_type": "markdown",
   "id": "0fae2e0b",
   "metadata": {},
   "source": [
    "### 5. Get all data for one experiment"
   ]
  },
  {
   "cell_type": "code",
   "execution_count": 5,
   "id": "f6c525fd",
   "metadata": {},
   "outputs": [],
   "source": [
    "exp = storage.experiments[experiment_id]"
   ]
  },
  {
   "cell_type": "code",
   "execution_count": 6,
   "id": "731ca364",
   "metadata": {},
   "outputs": [
    {
     "data": {
      "text/plain": [
       "{'90th Percentile Latency (microseconds)': 'min'}"
      ]
     },
     "metadata": {},
     "output_type": "display_data"
    }
   ],
   "source": [
    "# Display the set of optimization target objectives.\n",
    "display(exp.objectives)"
   ]
  },
  {
   "cell_type": "markdown",
   "id": "f29cc04a-2736-4ee4-a461-61a3784e8e8e",
   "metadata": {},
   "source": [
    "Main method that combines the information about each trial along with the trial configuration parameters and its results, is the property `.results`. It conveniently returns all data about the experiment is a single Pandas DataFrame."
   ]
  },
  {
   "cell_type": "code",
   "execution_count": 7,
   "id": "bd7d3f2d",
   "metadata": {},
   "outputs": [
    {
     "data": {
      "text/html": [
       "<div>\n",
       "<style scoped>\n",
       "    .dataframe tbody tr th:only-of-type {\n",
       "        vertical-align: middle;\n",
       "    }\n",
       "\n",
       "    .dataframe tbody tr th {\n",
       "        vertical-align: top;\n",
       "    }\n",
       "\n",
       "    .dataframe thead th {\n",
       "        text-align: right;\n",
       "    }\n",
       "</style>\n",
       "<table border=\"1\" class=\"dataframe\">\n",
       "  <thead>\n",
       "    <tr style=\"text-align: right;\">\n",
       "      <th></th>\n",
       "      <th>trial_id</th>\n",
       "      <th>ts_start</th>\n",
       "      <th>ts_end</th>\n",
       "      <th>tunable_config_id</th>\n",
       "      <th>tunable_config_trial_group_id</th>\n",
       "      <th>status</th>\n",
       "      <th>config.cache_size</th>\n",
       "      <th>config.journal_mode</th>\n",
       "      <th>config.journal_size_limit</th>\n",
       "      <th>config.mmap_size</th>\n",
       "      <th>...</th>\n",
       "      <th>result.Socket messages received</th>\n",
       "      <th>result.Socket messages sent</th>\n",
       "      <th>result.Swaps</th>\n",
       "      <th>result.System time (seconds)</th>\n",
       "      <th>result.Throughput (requests/second)</th>\n",
       "      <th>result.User time (seconds)</th>\n",
       "      <th>result.Voluntary context switches</th>\n",
       "      <th>result.isolation</th>\n",
       "      <th>result.scalefactor</th>\n",
       "      <th>result.terminals</th>\n",
       "    </tr>\n",
       "  </thead>\n",
       "  <tbody>\n",
       "    <tr>\n",
       "      <th>0</th>\n",
       "      <td>0</td>\n",
       "      <td>2023-10-12 00:19:35.179108</td>\n",
       "      <td>2023-10-12 00:21:32.101952</td>\n",
       "      <td>1</td>\n",
       "      <td>0</td>\n",
       "      <td>SUCCEEDED</td>\n",
       "      <td>1</td>\n",
       "      <td>delete</td>\n",
       "      <td>-1</td>\n",
       "      <td>-1</td>\n",
       "      <td>...</td>\n",
       "      <td>0</td>\n",
       "      <td>0</td>\n",
       "      <td>0</td>\n",
       "      <td>0.33</td>\n",
       "      <td>6.699841</td>\n",
       "      <td>2.81</td>\n",
       "      <td>14577</td>\n",
       "      <td>TRANSACTION_SERIALIZABLE</td>\n",
       "      <td>1</td>\n",
       "      <td>1</td>\n",
       "    </tr>\n",
       "    <tr>\n",
       "      <th>1</th>\n",
       "      <td>1</td>\n",
       "      <td>2023-10-12 00:21:32.201016</td>\n",
       "      <td>2023-10-12 00:21:46.432367</td>\n",
       "      <td>2</td>\n",
       "      <td>1</td>\n",
       "      <td>SUCCEEDED</td>\n",
       "      <td>1656398469</td>\n",
       "      <td>truncate</td>\n",
       "      <td>1633227268</td>\n",
       "      <td>363162755</td>\n",
       "      <td>...</td>\n",
       "      <td>0</td>\n",
       "      <td>0</td>\n",
       "      <td>0</td>\n",
       "      <td>0.28</td>\n",
       "      <td>31.099798</td>\n",
       "      <td>3.37</td>\n",
       "      <td>14950</td>\n",
       "      <td>TRANSACTION_SERIALIZABLE</td>\n",
       "      <td>1</td>\n",
       "      <td>1</td>\n",
       "    </tr>\n",
       "    <tr>\n",
       "      <th>2</th>\n",
       "      <td>2</td>\n",
       "      <td>2023-10-12 00:21:46.494138</td>\n",
       "      <td>2023-10-12 00:22:00.870337</td>\n",
       "      <td>3</td>\n",
       "      <td>2</td>\n",
       "      <td>SUCCEEDED</td>\n",
       "      <td>1281136238</td>\n",
       "      <td>off</td>\n",
       "      <td>704594</td>\n",
       "      <td>779126884</td>\n",
       "      <td>...</td>\n",
       "      <td>0</td>\n",
       "      <td>0</td>\n",
       "      <td>0</td>\n",
       "      <td>0.34</td>\n",
       "      <td>63.598733</td>\n",
       "      <td>3.76</td>\n",
       "      <td>15210</td>\n",
       "      <td>TRANSACTION_SERIALIZABLE</td>\n",
       "      <td>1</td>\n",
       "      <td>1</td>\n",
       "    </tr>\n",
       "    <tr>\n",
       "      <th>3</th>\n",
       "      <td>3</td>\n",
       "      <td>2023-10-12 00:22:00.936280</td>\n",
       "      <td>2023-10-12 00:22:15.337492</td>\n",
       "      <td>4</td>\n",
       "      <td>3</td>\n",
       "      <td>SUCCEEDED</td>\n",
       "      <td>948829517</td>\n",
       "      <td>wal</td>\n",
       "      <td>1120228729</td>\n",
       "      <td>1951308613</td>\n",
       "      <td>...</td>\n",
       "      <td>0</td>\n",
       "      <td>0</td>\n",
       "      <td>0</td>\n",
       "      <td>0.32</td>\n",
       "      <td>63.094578</td>\n",
       "      <td>3.77</td>\n",
       "      <td>14829</td>\n",
       "      <td>TRANSACTION_SERIALIZABLE</td>\n",
       "      <td>1</td>\n",
       "      <td>1</td>\n",
       "    </tr>\n",
       "    <tr>\n",
       "      <th>4</th>\n",
       "      <td>4</td>\n",
       "      <td>2023-10-12 00:22:15.397273</td>\n",
       "      <td>2023-10-12 00:22:31.124095</td>\n",
       "      <td>5</td>\n",
       "      <td>4</td>\n",
       "      <td>SUCCEEDED</td>\n",
       "      <td>699030920</td>\n",
       "      <td>persist</td>\n",
       "      <td>2027784438</td>\n",
       "      <td>2120909557</td>\n",
       "      <td>...</td>\n",
       "      <td>0</td>\n",
       "      <td>0</td>\n",
       "      <td>0</td>\n",
       "      <td>2.95</td>\n",
       "      <td>1440.387481</td>\n",
       "      <td>13.27</td>\n",
       "      <td>12883</td>\n",
       "      <td>TRANSACTION_SERIALIZABLE</td>\n",
       "      <td>1</td>\n",
       "      <td>1</td>\n",
       "    </tr>\n",
       "  </tbody>\n",
       "</table>\n",
       "<p>5 rows × 54 columns</p>\n",
       "</div>"
      ],
      "text/plain": [
       "   trial_id                   ts_start                     ts_end  \\\n",
       "0         0 2023-10-12 00:19:35.179108 2023-10-12 00:21:32.101952   \n",
       "1         1 2023-10-12 00:21:32.201016 2023-10-12 00:21:46.432367   \n",
       "2         2 2023-10-12 00:21:46.494138 2023-10-12 00:22:00.870337   \n",
       "3         3 2023-10-12 00:22:00.936280 2023-10-12 00:22:15.337492   \n",
       "4         4 2023-10-12 00:22:15.397273 2023-10-12 00:22:31.124095   \n",
       "\n",
       "   tunable_config_id  tunable_config_trial_group_id     status  \\\n",
       "0                  1                              0  SUCCEEDED   \n",
       "1                  2                              1  SUCCEEDED   \n",
       "2                  3                              2  SUCCEEDED   \n",
       "3                  4                              3  SUCCEEDED   \n",
       "4                  5                              4  SUCCEEDED   \n",
       "\n",
       "   config.cache_size config.journal_mode  config.journal_size_limit  \\\n",
       "0                  1              delete                         -1   \n",
       "1         1656398469            truncate                 1633227268   \n",
       "2         1281136238                 off                     704594   \n",
       "3          948829517                 wal                 1120228729   \n",
       "4          699030920             persist                 2027784438   \n",
       "\n",
       "   config.mmap_size  ...  result.Socket messages received  \\\n",
       "0                -1  ...                                0   \n",
       "1         363162755  ...                                0   \n",
       "2         779126884  ...                                0   \n",
       "3        1951308613  ...                                0   \n",
       "4        2120909557  ...                                0   \n",
       "\n",
       "  result.Socket messages sent result.Swaps  result.System time (seconds)  \\\n",
       "0                           0            0                          0.33   \n",
       "1                           0            0                          0.28   \n",
       "2                           0            0                          0.34   \n",
       "3                           0            0                          0.32   \n",
       "4                           0            0                          2.95   \n",
       "\n",
       "   result.Throughput (requests/second)  result.User time (seconds)  \\\n",
       "0                             6.699841                        2.81   \n",
       "1                            31.099798                        3.37   \n",
       "2                            63.598733                        3.76   \n",
       "3                            63.094578                        3.77   \n",
       "4                          1440.387481                       13.27   \n",
       "\n",
       "   result.Voluntary context switches          result.isolation  \\\n",
       "0                              14577  TRANSACTION_SERIALIZABLE   \n",
       "1                              14950  TRANSACTION_SERIALIZABLE   \n",
       "2                              15210  TRANSACTION_SERIALIZABLE   \n",
       "3                              14829  TRANSACTION_SERIALIZABLE   \n",
       "4                              12883  TRANSACTION_SERIALIZABLE   \n",
       "\n",
       "   result.scalefactor  result.terminals  \n",
       "0                   1                 1  \n",
       "1                   1                 1  \n",
       "2                   1                 1  \n",
       "3                   1                 1  \n",
       "4                   1                 1  \n",
       "\n",
       "[5 rows x 54 columns]"
      ]
     },
     "execution_count": 7,
     "metadata": {},
     "output_type": "execute_result"
    }
   ],
   "source": [
    "# View some of the result data associated with that experiment.\n",
    "df = exp.results_df\n",
    "df.head()"
   ]
  },
  {
   "cell_type": "markdown",
   "id": "14e3545d-67a1-4fa1-b502-e3ea5a5e7666",
   "metadata": {},
   "source": [
    "Each record of the DataFrame has the information about the trial, e.g., its timestamp and status, along with the configuration parameters (columns prefixed with `config.`) and the benchmark results (columns prefixed with `result.`). The `trial_id` field is simply the iteration number within the current experiment. Let's look at the first record to see all these fields."
   ]
  },
  {
   "cell_type": "code",
   "execution_count": 8,
   "id": "599843df",
   "metadata": {},
   "outputs": [
    {
     "data": {
      "text/plain": [
       "trial_id                                                                                              1\n",
       "ts_start                                                                     2023-10-12 00:21:32.201016\n",
       "ts_end                                                                       2023-10-12 00:21:46.432367\n",
       "tunable_config_id                                                                                     2\n",
       "tunable_config_trial_group_id                                                                         1\n",
       "status                                                                                        SUCCEEDED\n",
       "config.cache_size                                                                            1656398469\n",
       "config.journal_mode                                                                            truncate\n",
       "config.journal_size_limit                                                                    1633227268\n",
       "config.mmap_size                                                                              363162755\n",
       "config.page_size                                                                                   2048\n",
       "config.synchronous                                                                               normal\n",
       "config.temp_store                                                                                memory\n",
       "result.25th Percentile Latency (microseconds)                                                     29828\n",
       "result.75th Percentile Latency (microseconds)                                                     35731\n",
       "result.90th Percentile Latency (microseconds)                                                     40363\n",
       "result.95th Percentile Latency (microseconds)                                                     46250\n",
       "result.99th Percentile Latency (microseconds)                                                     55891\n",
       "result.Average Latency (microseconds)                                                             32017\n",
       "result.Average resident set size (kbytes)                                                             0\n",
       "result.Average shared text size (kbytes)                                                              0\n",
       "result.Average stack size (kbytes)                                                                    0\n",
       "result.Average total size (kbytes)                                                                    0\n",
       "result.Average unshared data size (kbytes)                                                            0\n",
       "result.Benchmark Type                                                                              tpcc\n",
       "result.Command being timed                            /benchbase/entrypoint.sh -b tpcc -c /benchbase...\n",
       "result.Current Timestamp (milliseconds)                                                   1697070105978\n",
       "result.DBMS Type                                                                                 SQLITE\n",
       "result.DBMS Version                                                                                 nan\n",
       "result.Elapsed (wall clock) time (h:mm:ss or m:ss)                                              0:12.44\n",
       "result.Exit status                                                                                    0\n",
       "result.File system inputs                                                                             0\n",
       "result.File system outputs                                                                        80688\n",
       "result.Goodput (requests/second)                                                               33.89978\n",
       "result.Involuntary context switches                                                                5574\n",
       "result.Major (requiring I/O) page faults                                                              8\n",
       "result.Maximum Latency (microseconds)                                                             61539\n",
       "result.Maximum resident set size (kbytes)                                                        185056\n",
       "result.Median Latency (microseconds)                                                              32790\n",
       "result.Minimum Latency (microseconds)                                                               459\n",
       "result.Minor (reclaiming a frame) page faults                                                     23322\n",
       "result.Page size (bytes)                                                                           4096\n",
       "result.Percent of CPU this job got                                                                  29%\n",
       "result.Signals delivered                                                                              0\n",
       "result.Socket messages received                                                                       0\n",
       "result.Socket messages sent                                                                           0\n",
       "result.Swaps                                                                                          0\n",
       "result.System time (seconds)                                                                       0.28\n",
       "result.Throughput (requests/second)                                                           31.099798\n",
       "result.User time (seconds)                                                                         3.37\n",
       "result.Voluntary context switches                                                                 14950\n",
       "result.isolation                                                               TRANSACTION_SERIALIZABLE\n",
       "result.scalefactor                                                                                    1\n",
       "result.terminals                                                                                      1\n",
       "Name: 1, dtype: object"
      ]
     },
     "execution_count": 8,
     "metadata": {},
     "output_type": "execute_result"
    }
   ],
   "source": [
    "df.loc[1]"
   ]
  },
  {
   "cell_type": "markdown",
   "id": "bd87ddb3",
   "metadata": {},
   "source": [
    "### 6. Visualize the results data automatically using `mlos_viz.plot()`"
   ]
  },
  {
   "cell_type": "code",
   "execution_count": 11,
   "id": "1bad8fe8",
   "metadata": {},
   "outputs": [],
   "source": [
    "import mlos_viz"
   ]
  },
  {
   "cell_type": "markdown",
   "id": "00a0fc88",
   "metadata": {},
   "source": [
    "`mlos_viz` attempts to use the information about the data to automatically provide some basic visualizations without much effort on the developer's part.\n",
    "\n",
    "At the moment, we do this using [`dabl`](https://github.com/dabl/dabl), though in the future we intend to add support for more interactive visualizations or even scheduling new trials, while maintaining a very simple API:"
   ]
  },
  {
   "cell_type": "code",
   "execution_count": 27,
   "id": "c53f30e9",
   "metadata": {},
   "outputs": [
    {
     "data": {
      "text/html": [
       "<div>\n",
       "<style scoped>\n",
       "    .dataframe tbody tr th:only-of-type {\n",
       "        vertical-align: middle;\n",
       "    }\n",
       "\n",
       "    .dataframe tbody tr th {\n",
       "        vertical-align: top;\n",
       "    }\n",
       "\n",
       "    .dataframe thead th {\n",
       "        text-align: right;\n",
       "    }\n",
       "</style>\n",
       "<table border=\"1\" class=\"dataframe\">\n",
       "  <thead>\n",
       "    <tr style=\"text-align: right;\">\n",
       "      <th></th>\n",
       "      <th>result.90th Percentile Latency (microseconds)</th>\n",
       "      <th>trial_id</th>\n",
       "      <th>tunable_config_id</th>\n",
       "      <th>tunable_config_trial_group_id</th>\n",
       "      <th>tunable_config_trial_group_size</th>\n",
       "    </tr>\n",
       "  </thead>\n",
       "  <tbody>\n",
       "    <tr>\n",
       "      <th>0</th>\n",
       "      <td>306662</td>\n",
       "      <td>0</td>\n",
       "      <td>1</td>\n",
       "      <td>0</td>\n",
       "      <td>1</td>\n",
       "    </tr>\n",
       "    <tr>\n",
       "      <th>1</th>\n",
       "      <td>40363</td>\n",
       "      <td>1</td>\n",
       "      <td>2</td>\n",
       "      <td>1</td>\n",
       "      <td>1</td>\n",
       "    </tr>\n",
       "    <tr>\n",
       "      <th>2</th>\n",
       "      <td>20173</td>\n",
       "      <td>2</td>\n",
       "      <td>3</td>\n",
       "      <td>2</td>\n",
       "      <td>1</td>\n",
       "    </tr>\n",
       "    <tr>\n",
       "      <th>3</th>\n",
       "      <td>19680</td>\n",
       "      <td>3</td>\n",
       "      <td>4</td>\n",
       "      <td>3</td>\n",
       "      <td>1</td>\n",
       "    </tr>\n",
       "    <tr>\n",
       "      <th>4</th>\n",
       "      <td>1306</td>\n",
       "      <td>4</td>\n",
       "      <td>5</td>\n",
       "      <td>4</td>\n",
       "      <td>1</td>\n",
       "    </tr>\n",
       "    <tr>\n",
       "      <th>...</th>\n",
       "      <td>...</td>\n",
       "      <td>...</td>\n",
       "      <td>...</td>\n",
       "      <td>...</td>\n",
       "      <td>...</td>\n",
       "    </tr>\n",
       "    <tr>\n",
       "      <th>95</th>\n",
       "      <td>995</td>\n",
       "      <td>95</td>\n",
       "      <td>96</td>\n",
       "      <td>95</td>\n",
       "      <td>1</td>\n",
       "    </tr>\n",
       "    <tr>\n",
       "      <th>96</th>\n",
       "      <td>1015</td>\n",
       "      <td>96</td>\n",
       "      <td>97</td>\n",
       "      <td>96</td>\n",
       "      <td>1</td>\n",
       "    </tr>\n",
       "    <tr>\n",
       "      <th>97</th>\n",
       "      <td>1432</td>\n",
       "      <td>97</td>\n",
       "      <td>98</td>\n",
       "      <td>97</td>\n",
       "      <td>1</td>\n",
       "    </tr>\n",
       "    <tr>\n",
       "      <th>98</th>\n",
       "      <td>1077</td>\n",
       "      <td>98</td>\n",
       "      <td>99</td>\n",
       "      <td>98</td>\n",
       "      <td>1</td>\n",
       "    </tr>\n",
       "    <tr>\n",
       "      <th>99</th>\n",
       "      <td>1018</td>\n",
       "      <td>99</td>\n",
       "      <td>100</td>\n",
       "      <td>99</td>\n",
       "      <td>1</td>\n",
       "    </tr>\n",
       "  </tbody>\n",
       "</table>\n",
       "<p>100 rows × 5 columns</p>\n",
       "</div>"
      ],
      "text/plain": [
       "    result.90th Percentile Latency (microseconds)  trial_id  \\\n",
       "0                                          306662         0   \n",
       "1                                           40363         1   \n",
       "2                                           20173         2   \n",
       "3                                           19680         3   \n",
       "4                                            1306         4   \n",
       "..                                            ...       ...   \n",
       "95                                            995        95   \n",
       "96                                           1015        96   \n",
       "97                                           1432        97   \n",
       "98                                           1077        98   \n",
       "99                                           1018        99   \n",
       "\n",
       "    tunable_config_id  tunable_config_trial_group_id  \\\n",
       "0                   1                              0   \n",
       "1                   2                              1   \n",
       "2                   3                              2   \n",
       "3                   4                              3   \n",
       "4                   5                              4   \n",
       "..                ...                            ...   \n",
       "95                 96                             95   \n",
       "96                 97                             96   \n",
       "97                 98                             97   \n",
       "98                 99                             98   \n",
       "99                100                             99   \n",
       "\n",
       "    tunable_config_trial_group_size  \n",
       "0                                 1  \n",
       "1                                 1  \n",
       "2                                 1  \n",
       "3                                 1  \n",
       "4                                 1  \n",
       "..                              ...  \n",
       "95                                1  \n",
       "96                                1  \n",
       "97                                1  \n",
       "98                                1  \n",
       "99                                1  \n",
       "\n",
       "[100 rows x 5 columns]"
      ]
     },
     "metadata": {},
     "output_type": "display_data"
    }
   ],
   "source": [
    "from typing import Optional, Iterable, Union, Literal\n",
    "import re\n",
    "import pandas\n",
    "from pandas.api.types import is_numeric_dtype\n",
    "from mlos_bench.storage.base_experiment_data import ExperimentData\n",
    "\n",
    "def augment_results_df_with_config_trial_group_stats(exp_data: Optional[ExperimentData] = None,\n",
    "                                                     *,\n",
    "                                                     results_df: Optional[pandas.DataFrame] = None,\n",
    "                                                     requested_result_cols: Optional[Iterable[str]] = None,\n",
    "                                                     ) -> pandas.DataFrame:\n",
    "    # pylint: disable=too-complex\n",
    "    \"\"\"\n",
    "    Add a number of useful statistical measure columns to the results dataframe.\n",
    "\n",
    "    In particular, for each numeric result, we add the following columns:\n",
    "        \".p50\" - the median of each config trial group results\n",
    "        \".p75\" - the p75 of each config trial group results\n",
    "        \".p90\" - the p90 of each config trial group results\n",
    "        \".p95\" - the p95 of each config trial group results\n",
    "        \".p99\" - the p95 of each config trial group results\n",
    "        \".mean\" - the mean of each config trial group results\n",
    "        \".stddev\" - the mean of each config trial group results\n",
    "        \".var\" - the variance of each config trial group results\n",
    "        \".var_zscore\" - the zscore of this group (i.e., variance relative to the stddev of all group variances)\n",
    "            This can be useful for filtering out outliers\n",
    "            (e.g., configs with high variance relative to others by restricting to abs <= 2)\n",
    "\n",
    "    Parameters\n",
    "    ----------\n",
    "    exp_data : ExperimentData\n",
    "        The ExperimentData (e.g., obtained from the storage layer) to plot.\n",
    "    results_df : Optional[pandas.DataFrame]\n",
    "        The results dataframe to augment, by default None to use the results_df property.\n",
    "    requested_result_cols : Optional[Iterable[str]]\n",
    "        Which results columns to augment, by default None to use all results columns.\n",
    "\n",
    "    Returns\n",
    "    -------\n",
    "    pandas.DataFrame\n",
    "        The augmented results dataframe.\n",
    "    \"\"\"\n",
    "    if results_df is None:\n",
    "        if exp_data is None:\n",
    "            raise ValueError(\"Either exp_data or results_df must be provided.\")\n",
    "        results_df = exp_data.results_df\n",
    "    results_groups = results_df.groupby(\"tunable_config_id\")\n",
    "    if len(results_groups) <= 1:\n",
    "        raise ValueError(f\"Not enough data: {len(results_groups)}\")\n",
    "\n",
    "    if requested_result_cols is None:\n",
    "        result_cols = set(col for col in results_df.columns if col.startswith(ExperimentData.RESULT_COLUMN_PREFIX))\n",
    "    else:\n",
    "        result_cols = set(col for col in requested_result_cols\n",
    "                          if col.startswith(ExperimentData.RESULT_COLUMN_PREFIX) and col in results_df.columns)\n",
    "        result_cols.update(set(ExperimentData.RESULT_COLUMN_PREFIX + col for col in requested_result_cols\n",
    "                               if ExperimentData.RESULT_COLUMN_PREFIX in results_df.columns))\n",
    "\n",
    "    def compute_zscore_for_group_agg(\n",
    "            results_groups_perf: \"SeriesGroupBy\",\n",
    "            stats_df: pandas.DataFrame,\n",
    "            result_col: str,\n",
    "            agg: Union[Literal[\"mean\"], Literal[\"var\"], Literal[\"std\"]]\n",
    "    ) -> None:\n",
    "        results_groups_perf_aggs = results_groups_perf.agg(agg)    # TODO: avoid recalculating?\n",
    "        # Compute the zscore of the chosen aggregate performance of each group into each row in the dataframe.\n",
    "        stats_df[result_col + f\".{agg}_mean\"] = results_groups_perf_aggs.mean()\n",
    "        stats_df[result_col + f\".{agg}_stddev\"] = results_groups_perf_aggs.std()\n",
    "        stats_df[result_col + f\".{agg}_zscore\"] = \\\n",
    "            (stats_df[result_col + f\".{agg}\"] - stats_df[result_col + f\".{agg}_mean\"]) \\\n",
    "            / stats_df[result_col + f\".{agg}_stddev\"]\n",
    "        stats_df.drop(columns=[result_col + \".var_\" + agg for agg in (\"mean\", \"stddev\")], inplace=True)\n",
    "\n",
    "    augmented_results_df = results_df\n",
    "    augmented_results_df[\"tunable_config_trial_group_size\"] = results_groups[\"trial_id\"].transform(\"count\")\n",
    "    for result_col in result_cols:\n",
    "        if not result_col.startswith(ExperimentData.RESULT_COLUMN_PREFIX):\n",
    "            continue\n",
    "        if re.search(r\"(start|end).*time\", result_col, flags=re.IGNORECASE):\n",
    "            # Ignore computing variance on things like that look like timestamps.\n",
    "            continue\n",
    "        if not is_numeric_dtype(results_df[result_col]):\n",
    "            continue\n",
    "        if results_df[result_col].unique().size == 1:\n",
    "            continue\n",
    "        results_groups_perf = results_groups[result_col]\n",
    "        stats_df = pandas.DataFrame()\n",
    "        stats_df[result_col + \".mean\"] = results_groups_perf.transform(\"mean\", numeric_only=True)\n",
    "        stats_df[result_col + \".var\"] = results_groups_perf.transform(\"var\")\n",
    "        stats_df[result_col + \".stddev\"] = stats_df[result_col + \".var\"].apply(lambda x: x**0.5)\n",
    "\n",
    "        compute_zscore_for_group_agg(results_groups_perf, stats_df, result_col, \"var\")\n",
    "        quantiles = [0.50, 0.75, 0.90, 0.95, 0.99]\n",
    "        for quantile in quantiles:     # TODO: can we do this in one pass?\n",
    "            quantile_col = result_col + f\".p{int(quantile*100)}\"\n",
    "            stats_df[quantile_col] = results_groups_perf.transform(\"quantile\", quantile)\n",
    "        augmented_results_df = pandas.concat([augmented_results_df, stats_df], axis=1)\n",
    "    return augmented_results_df\n",
    "\n",
    "cols = [col for col in df.columns if col.startswith(\"result.90th\")] + [\"trial_id\", \"tunable_config_id\", \"tunable_config_trial_group_id\", \"tunable_config_trial_group_size\"]\n",
    "\n",
    "display(augment_results_df_with_config_trial_group_stats(exp)[cols])"
   ]
  },
  {
   "cell_type": "code",
   "execution_count": 31,
   "id": "f2c0a6fd",
   "metadata": {},
   "outputs": [
    {
     "data": {
      "text/plain": [
       "{'result.90th Percentile Latency (microseconds)': True}"
      ]
     },
     "metadata": {},
     "output_type": "display_data"
    },
    {
     "data": {
      "text/html": [
       "<div>\n",
       "<style scoped>\n",
       "    .dataframe tbody tr th:only-of-type {\n",
       "        vertical-align: middle;\n",
       "    }\n",
       "\n",
       "    .dataframe tbody tr th {\n",
       "        vertical-align: top;\n",
       "    }\n",
       "\n",
       "    .dataframe thead th {\n",
       "        text-align: right;\n",
       "    }\n",
       "</style>\n",
       "<table border=\"1\" class=\"dataframe\">\n",
       "  <thead>\n",
       "    <tr style=\"text-align: right;\">\n",
       "      <th></th>\n",
       "      <th>trial_id</th>\n",
       "      <th>ts_start</th>\n",
       "      <th>ts_end</th>\n",
       "      <th>tunable_config_id</th>\n",
       "      <th>tunable_config_trial_group_id</th>\n",
       "      <th>status</th>\n",
       "      <th>config.cache_size</th>\n",
       "      <th>config.journal_mode</th>\n",
       "      <th>config.journal_size_limit</th>\n",
       "      <th>config.mmap_size</th>\n",
       "      <th>...</th>\n",
       "      <th>tunable_config_trial_group_size</th>\n",
       "      <th>result.90th Percentile Latency (microseconds).mean</th>\n",
       "      <th>result.90th Percentile Latency (microseconds).var</th>\n",
       "      <th>result.90th Percentile Latency (microseconds).stddev</th>\n",
       "      <th>result.90th Percentile Latency (microseconds).var_zscore</th>\n",
       "      <th>result.90th Percentile Latency (microseconds).p50</th>\n",
       "      <th>result.90th Percentile Latency (microseconds).p75</th>\n",
       "      <th>result.90th Percentile Latency (microseconds).p90</th>\n",
       "      <th>result.90th Percentile Latency (microseconds).p95</th>\n",
       "      <th>result.90th Percentile Latency (microseconds).p99</th>\n",
       "    </tr>\n",
       "  </thead>\n",
       "  <tbody>\n",
       "    <tr>\n",
       "      <th>0</th>\n",
       "      <td>0</td>\n",
       "      <td>2023-10-12 00:19:35.179108</td>\n",
       "      <td>2023-10-12 00:21:32.101952</td>\n",
       "      <td>1</td>\n",
       "      <td>0</td>\n",
       "      <td>SUCCEEDED</td>\n",
       "      <td>1</td>\n",
       "      <td>delete</td>\n",
       "      <td>-1</td>\n",
       "      <td>-1</td>\n",
       "      <td>...</td>\n",
       "      <td>1</td>\n",
       "      <td>306662.0</td>\n",
       "      <td>NaN</td>\n",
       "      <td>NaN</td>\n",
       "      <td>NaN</td>\n",
       "      <td>306662.0</td>\n",
       "      <td>306662.0</td>\n",
       "      <td>306662.0</td>\n",
       "      <td>306662.0</td>\n",
       "      <td>306662.0</td>\n",
       "    </tr>\n",
       "  </tbody>\n",
       "</table>\n",
       "<p>1 rows × 64 columns</p>\n",
       "</div>"
      ],
      "text/plain": [
       "   trial_id                   ts_start                     ts_end  \\\n",
       "0         0 2023-10-12 00:19:35.179108 2023-10-12 00:21:32.101952   \n",
       "\n",
       "   tunable_config_id  tunable_config_trial_group_id     status  \\\n",
       "0                  1                              0  SUCCEEDED   \n",
       "\n",
       "   config.cache_size config.journal_mode  config.journal_size_limit  \\\n",
       "0                  1              delete                         -1   \n",
       "\n",
       "   config.mmap_size  ...  tunable_config_trial_group_size  \\\n",
       "0                -1  ...                                1   \n",
       "\n",
       "  result.90th Percentile Latency (microseconds).mean  \\\n",
       "0                                           306662.0   \n",
       "\n",
       "  result.90th Percentile Latency (microseconds).var  \\\n",
       "0                                               NaN   \n",
       "\n",
       "   result.90th Percentile Latency (microseconds).stddev  \\\n",
       "0                                                NaN      \n",
       "\n",
       "   result.90th Percentile Latency (microseconds).var_zscore  \\\n",
       "0                                                NaN          \n",
       "\n",
       "   result.90th Percentile Latency (microseconds).p50  \\\n",
       "0                                           306662.0   \n",
       "\n",
       "   result.90th Percentile Latency (microseconds).p75  \\\n",
       "0                                           306662.0   \n",
       "\n",
       "   result.90th Percentile Latency (microseconds).p90  \\\n",
       "0                                           306662.0   \n",
       "\n",
       "   result.90th Percentile Latency (microseconds).p95  \\\n",
       "0                                           306662.0   \n",
       "\n",
       "   result.90th Percentile Latency (microseconds).p99  \n",
       "0                                           306662.0  \n",
       "\n",
       "[1 rows x 64 columns]"
      ]
     },
     "metadata": {},
     "output_type": "display_data"
    }
   ],
   "source": [
    "from typing import Optional, Literal, List, Dict, Tuple\n",
    "import pandas\n",
    "from mlos_bench.storage.base_experiment_data import ExperimentData\n",
    "from mlos_viz.util import expand_results_data_args\n",
    "\n",
    "def limit_top_n_configs(exp_data: Optional[ExperimentData] = None,\n",
    "                        *,\n",
    "                        results_df: Optional[pandas.DataFrame] = None,\n",
    "                        objectives: Optional[Dict[str, Literal[\"min\", \"max\"]]] = None,\n",
    "                        top_n_configs: int = 10,\n",
    "                        method: Literal[\"mean\", \"p50\", \"p75\", \"p90\", \"p95\", \"p99\"] = \"mean\",\n",
    "                        ) -> Tuple[pandas.DataFrame, List[int], Dict[str, bool]]:\n",
    "    # pylint: disable=too-many-locals\n",
    "    \"\"\"\n",
    "    Utility function to process the results and determine the best performing\n",
    "    configs including potential repeats to help assess variability.\n",
    "\n",
    "    Parameters\n",
    "    ----------\n",
    "    exp_data : Optional[ExperimentData]\n",
    "        The ExperimentData (e.g., obtained from the storage layer) to operate on.\n",
    "    results_df : Optional[pandas.DataFrame]\n",
    "        The results dataframe to augment, by default None to use the results_df property.\n",
    "    objectives : Iterable[str], optional\n",
    "        Which result column(s) to use for sorting the configs, and in which direction (\"min\" or \"max\").\n",
    "        By default None to automatically select the experiment objectives.\n",
    "    top_n_configs : int, optional\n",
    "        How many configs to return, including the default, by default 20.\n",
    "    method: Literal[\"mean\", \"median\", \"p50\", \"p75\", \"p90\", \"p95\", \"p99\"] = \"mean\",\n",
    "        Which statistical method to use when sorting the config groups before determining the cutoff, by default \"mean\".\n",
    "\n",
    "    Returns\n",
    "    -------\n",
    "    (top_n_config_results_df, top_n_config_ids, orderby_cols) : Tuple[pandas.DataFrame, List[int], Dict[str, bool]]\n",
    "        The filtered results dataframe, the config ids, and the columns used to order the configs.\n",
    "    \"\"\"\n",
    "    # Do some input checking first.\n",
    "    if method not in [\"mean\", \"p50\", \"p75\", \"p90\", \"p95\", \"p99\"]:\n",
    "        raise ValueError(f\"Invalid method: {method}\")\n",
    "\n",
    "    # Prepare the orderby columns.\n",
    "    (results_df, objs_cols) = expand_results_data_args(exp_data, results_df=results_df, objectives=objectives)\n",
    "    assert isinstance(results_df, pandas.DataFrame)\n",
    "\n",
    "    # Augment the results dataframe with some useful stats.\n",
    "    results_df = augment_results_df_with_config_trial_group_stats(\n",
    "        exp_data=exp_data,\n",
    "        results_df=results_df,\n",
    "        requested_result_cols=objs_cols.keys(),\n",
    "    )\n",
    "    # Note: mypy seems to lose its mind for some reason and keeps forgetting that\n",
    "    # results_df is not None and is in fact a DataFrame, so we periodically assert\n",
    "    # it in this func for now.\n",
    "    assert results_df is not None\n",
    "    orderby_cols: Dict[str, bool] = {obj_col + f\".{method}\": ascending for (obj_col, ascending) in objs_cols.items()}\n",
    "\n",
    "    config_id_col = \"tunable_config_id\"\n",
    "    group_id_col = \"tunable_config_trial_group_id\"     # first trial_id per config group\n",
    "    trial_id_col = \"trial_id\"\n",
    "\n",
    "    default_config_id = results_df[trial_id_col].min() if exp_data is None else exp_data.default_tunable_config_id\n",
    "    assert default_config_id is not None, \"Failed to determine default config id.\"\n",
    "\n",
    "    # Filter out configs whose variance is too large.\n",
    "    # But also make sure the default configs is still in the resulting dataframe\n",
    "    # (for comparison purposes).\n",
    "    display(objs_cols)\n",
    "    for obj_col in objs_cols:\n",
    "        assert results_df is not None\n",
    "        if method == \"mean\":\n",
    "            singletons_mask = results_df[\"tunable_config_trial_group_size\"] == 1\n",
    "        else:\n",
    "            singletons_mask = results_df[\"tunable_config_trial_group_size\"] > 1\n",
    "        results_df = results_df.loc[(\n",
    "            (results_df[f\"{obj_col}.var_zscore\"].abs() < 2)\n",
    "            | (singletons_mask)\n",
    "            | (results_df[config_id_col] == default_config_id)\n",
    "        )]\n",
    "    assert results_df is not None\n",
    "\n",
    "    # Also, filter results that are worse than the default.\n",
    "    default_config_results_df = results_df.loc[results_df[config_id_col] == default_config_id]\n",
    "    for (orderby_col, ascending) in orderby_cols.items():\n",
    "        default_vals = default_config_results_df[orderby_col].unique()\n",
    "        assert len(default_vals) == 1\n",
    "        default_val = default_vals[0]\n",
    "        assert results_df is not None\n",
    "        if ascending:\n",
    "            results_df = results_df.loc[(results_df[orderby_col] <= default_val)]\n",
    "        else:\n",
    "            results_df = results_df.loc[(results_df[orderby_col] >= default_val)]\n",
    "            \n",
    "    # Now regroup and filter to the top-N configs by their group performance dimensions.\n",
    "    assert results_df is not None\n",
    "    group_results_df: pandas.DataFrame = results_df.groupby(config_id_col).first()[orderby_cols.keys()]\n",
    "    top_n_config_ids: List[int] = group_results_df.sort_values(\n",
    "        by=list(orderby_cols.keys()), ascending=list(orderby_cols.values())).head(top_n_configs).index.tolist()\n",
    "\n",
    "    # Remove the default config if it's included. We'll add it back later.\n",
    "    if default_config_id in top_n_config_ids:\n",
    "        top_n_config_ids.remove(default_config_id)\n",
    "    # Get just the top-n config results.\n",
    "    # Sort by the group ids.\n",
    "    top_n_config_results_df = results_df.loc[(\n",
    "        results_df[config_id_col].isin(top_n_config_ids)\n",
    "    )].sort_values([group_id_col, config_id_col, trial_id_col])\n",
    "    # Place the default config at the top of the list.\n",
    "    top_n_config_ids.insert(0, default_config_id)\n",
    "    top_n_config_results_df = pandas.concat([default_config_results_df, top_n_config_results_df], axis=0)\n",
    "    return (top_n_config_results_df, top_n_config_ids, orderby_cols)\n",
    "\n",
    "display(limit_top_n_configs(exp, top_n_configs=10, method=\"mean\")[0])"
   ]
  },
  {
   "cell_type": "code",
   "execution_count": 9,
   "id": "86f7db47",
   "metadata": {},
   "outputs": [
    {
     "data": {
      "text/html": [
       "<div>\n",
       "<style scoped>\n",
       "    .dataframe tbody tr th:only-of-type {\n",
       "        vertical-align: middle;\n",
       "    }\n",
       "\n",
       "    .dataframe tbody tr th {\n",
       "        vertical-align: top;\n",
       "    }\n",
       "\n",
       "    .dataframe thead th {\n",
       "        text-align: right;\n",
       "    }\n",
       "</style>\n",
       "<table border=\"1\" class=\"dataframe\">\n",
       "  <thead>\n",
       "    <tr style=\"text-align: right;\">\n",
       "      <th></th>\n",
       "      <th>trial_id</th>\n",
       "      <th>ts_start</th>\n",
       "      <th>ts_end</th>\n",
       "      <th>tunable_config_id</th>\n",
       "      <th>tunable_config_trial_group_id</th>\n",
       "      <th>status</th>\n",
       "      <th>config.cache_size</th>\n",
       "      <th>config.journal_mode</th>\n",
       "      <th>config.journal_size_limit</th>\n",
       "      <th>config.mmap_size</th>\n",
       "      <th>...</th>\n",
       "      <th>result.terminals</th>\n",
       "      <th>result.90th Percentile Latency (microseconds).mean</th>\n",
       "      <th>result.90th Percentile Latency (microseconds).var</th>\n",
       "      <th>result.90th Percentile Latency (microseconds).stddev</th>\n",
       "      <th>result.90th Percentile Latency (microseconds).var_zscore</th>\n",
       "      <th>result.90th Percentile Latency (microseconds).p50</th>\n",
       "      <th>result.90th Percentile Latency (microseconds).p75</th>\n",
       "      <th>result.90th Percentile Latency (microseconds).p90</th>\n",
       "      <th>result.90th Percentile Latency (microseconds).p95</th>\n",
       "      <th>result.90th Percentile Latency (microseconds).p99</th>\n",
       "    </tr>\n",
       "  </thead>\n",
       "  <tbody>\n",
       "    <tr>\n",
       "      <th>0</th>\n",
       "      <td>0</td>\n",
       "      <td>2023-10-12 00:19:35.179108</td>\n",
       "      <td>2023-10-12 00:21:32.101952</td>\n",
       "      <td>1</td>\n",
       "      <td>0</td>\n",
       "      <td>SUCCEEDED</td>\n",
       "      <td>1</td>\n",
       "      <td>delete</td>\n",
       "      <td>-1</td>\n",
       "      <td>-1</td>\n",
       "      <td>...</td>\n",
       "      <td>1</td>\n",
       "      <td>306662.0</td>\n",
       "      <td>NaN</td>\n",
       "      <td>NaN</td>\n",
       "      <td>NaN</td>\n",
       "      <td>306662.0</td>\n",
       "      <td>306662.0</td>\n",
       "      <td>306662.0</td>\n",
       "      <td>306662.0</td>\n",
       "      <td>306662.0</td>\n",
       "    </tr>\n",
       "  </tbody>\n",
       "</table>\n",
       "<p>1 rows × 63 columns</p>\n",
       "</div>"
      ],
      "text/plain": [
       "   trial_id                   ts_start                     ts_end  \\\n",
       "0         0 2023-10-12 00:19:35.179108 2023-10-12 00:21:32.101952   \n",
       "\n",
       "   tunable_config_id  tunable_config_trial_group_id     status  \\\n",
       "0                  1                              0  SUCCEEDED   \n",
       "\n",
       "   config.cache_size config.journal_mode  config.journal_size_limit  \\\n",
       "0                  1              delete                         -1   \n",
       "\n",
       "   config.mmap_size  ...  result.terminals  \\\n",
       "0                -1  ...                 1   \n",
       "\n",
       "  result.90th Percentile Latency (microseconds).mean  \\\n",
       "0                                           306662.0   \n",
       "\n",
       "  result.90th Percentile Latency (microseconds).var  \\\n",
       "0                                               NaN   \n",
       "\n",
       "   result.90th Percentile Latency (microseconds).stddev  \\\n",
       "0                                                NaN      \n",
       "\n",
       "   result.90th Percentile Latency (microseconds).var_zscore  \\\n",
       "0                                                NaN          \n",
       "\n",
       "   result.90th Percentile Latency (microseconds).p50  \\\n",
       "0                                           306662.0   \n",
       "\n",
       "   result.90th Percentile Latency (microseconds).p75  \\\n",
       "0                                           306662.0   \n",
       "\n",
       "   result.90th Percentile Latency (microseconds).p90  \\\n",
       "0                                           306662.0   \n",
       "\n",
       "   result.90th Percentile Latency (microseconds).p95  \\\n",
       "0                                           306662.0   \n",
       "\n",
       "   result.90th Percentile Latency (microseconds).p99  \n",
       "0                                           306662.0  \n",
       "\n",
       "[1 rows x 63 columns]"
      ]
     },
     "metadata": {},
     "output_type": "display_data"
    }
   ],
   "source": [
    "from mlos_viz.base import limit_top_n_configs\n",
    "display(limit_top_n_configs(exp, top_n_configs=10)[0])"
   ]
  },
  {
   "cell_type": "code",
   "execution_count": 10,
   "id": "bb651296",
   "metadata": {},
   "outputs": [
    {
     "ename": "NameError",
     "evalue": "name 'mlos_viz' is not defined",
     "output_type": "error",
     "traceback": [
      "\u001b[0;31m---------------------------------------------------------------------------\u001b[0m",
      "\u001b[0;31mNameError\u001b[0m                                 Traceback (most recent call last)",
      "Cell \u001b[0;32mIn[10], line 1\u001b[0m\n\u001b[0;32m----> 1\u001b[0m mlos_viz\u001b[38;5;241m.\u001b[39mplot(exp)\n",
      "\u001b[0;31mNameError\u001b[0m: name 'mlos_viz' is not defined"
     ]
    }
   ],
   "source": [
    "mlos_viz.plot(exp)"
   ]
  },
  {
   "cell_type": "markdown",
   "id": "6630fa1a",
   "metadata": {},
   "source": [
    "# TODO: Write up take away texts to go along with these graphs."
   ]
  },
  {
   "cell_type": "markdown",
   "id": "613f5d14",
   "metadata": {},
   "source": [
    "### 7. Alternatively, plot the results manually using `seaborn` and `matplotlib`."
   ]
  },
  {
   "cell_type": "code",
   "execution_count": null,
   "id": "48aadee0",
   "metadata": {},
   "outputs": [],
   "source": [
    "# Import a few popular third-party packages for data analysis. They come pre-installed with Anaconda.\n",
    "from matplotlib import pyplot as plt\n",
    "import seaborn as sns"
   ]
  },
  {
   "cell_type": "code",
   "execution_count": null,
   "id": "976ad1ab-17d3-4d10-b07b-200e3b8d0fae",
   "metadata": {},
   "outputs": [],
   "source": [
    "# Cosmetic: Suppress some annoying warnings from third-party data visualization packages\n",
    "import warnings\n",
    "warnings.filterwarnings(\"ignore\", category=FutureWarning)"
   ]
  },
  {
   "cell_type": "markdown",
   "id": "9ed1b052-cbd9-487f-a9ec-228fc9cb340e",
   "metadata": {},
   "source": [
    "First, let's select some configuration parameters and benchmark metrics to analyze."
   ]
  },
  {
   "cell_type": "code",
   "execution_count": null,
   "id": "3d850fd2",
   "metadata": {},
   "outputs": [],
   "source": [
    "# Categorical tunable to consider:\n",
    "CATEGORY = \"config.synchronous\"\n",
    "\n",
    "# A system resource metric to analyze.\n",
    "METRIC = \"result.File system outputs\"\n",
    "\n",
    "# Which performance metric to plot on the Y-axis.\n",
    "SCORE = \"result.90th Percentile Latency (microseconds)\""
   ]
  },
  {
   "cell_type": "markdown",
   "id": "100dd004",
   "metadata": {},
   "source": [
    "#### 7.1. Plot the behavior of the optimizer"
   ]
  },
  {
   "cell_type": "markdown",
   "id": "d9568e0a-5f43-4175-b238-13dc29a64c25",
   "metadata": {},
   "source": [
    "First, let's see how the optimizer converges to a new optimal SQLite configuration.\n",
    "\n",
    "We will plot the iteration number on the X axis and the optimization target on the Y. Each dot of the scatterplot represents the performance of the configuration that the optimizer proposes for that trial.\n",
    "The line plot shows the best configuration found so far (that is, a cumulative minimum of the score).\n",
    "\n",
    "As we can see, the optimizer does not necessarily take a direct path to the optimal configuration.\n",
    "It may try some configurations that are worse than the current best one.\n",
    "This is expected, as the optimizer is trying to explore the configuration space and find the global optimum, not just the local one.\n",
    "There may also be some noise in the system that can lead to some config regions reporting variance in their performance."
   ]
  },
  {
   "cell_type": "code",
   "execution_count": null,
   "id": "b4852c47-bfc2-4496-ba3b-23c05dc34fee",
   "metadata": {},
   "outputs": [
    {
     "data": {
      "image/png": "[encoded data removed]",
      "text/plain": [
       "<Figure size 1000x400 with 1 Axes>"
      ]
     },
     "metadata": {},
     "output_type": "display_data"
    }
   ],
   "source": [
    "plt.rcParams[\"figure.figsize\"] = (10, 4)\n",
    "\n",
    "sns.scatterplot(x=df.trial_id, y=df[SCORE], alpha=0.7)  # Result of each trial\n",
    "sns.lineplot(x=df.trial_id, y=df[SCORE].cummin())  # the best result so far (cummin)\n",
    "\n",
    "plt.yscale('log')\n",
    "\n",
    "plt.xlabel(\"Trial number\")\n",
    "plt.ylabel(SCORE)\n",
    "\n",
    "plt.title(\"Experiment: \" + exp.experiment_id)\n",
    "plt.grid()\n",
    "plt.show()"
   ]
  },
  {
   "cell_type": "markdown",
   "id": "ef318739-ba2c-4898-81d4-1e1422f5ee57",
   "metadata": {},
   "source": [
    "We see that the optimizer finds a good configuration in about 10 interations. After that, it oscillates between exploring some remote areas of the configuration space (and getting some pretty bad banchmarking results) and exploiting the neighborhoods of the well-performing configurations, further improving the results."
   ]
  },
  {
   "cell_type": "markdown",
   "id": "32680002",
   "metadata": {},
   "source": [
    "#### 7.2. Plot the results of one metric vs. another for some tunable\n",
    "\n",
    "The intent is to explore parameter importance and impact on different metrics (both application performance and system resource usage)."
   ]
  },
  {
   "cell_type": "code",
   "execution_count": null,
   "id": "538a56b7",
   "metadata": {},
   "outputs": [
    {
     "data": {
      "image/png": "[encoded data removed]",
      "text/plain": [
       "<Figure size 600x500 with 1 Axes>"
      ]
     },
     "metadata": {},
     "output_type": "display_data"
    }
   ],
   "source": [
    "plt.rcParams[\"figure.figsize\"] = (6, 5)\n",
    "\n",
    "sns.scatterplot(data=df, x=METRIC, y=SCORE, hue=CATEGORY, marker='o', alpha=0.7)\n",
    "\n",
    "plt.title(\"Experiment: \" + exp.experiment_id)\n",
    "plt.grid()\n",
    "plt.show()"
   ]
  },
  {
   "cell_type": "markdown",
   "id": "4f3f124d-ff82-41dc-84d3-44ee68f238dc",
   "metadata": {},
   "source": [
    "The results are here, but the outliers make it really difficult to understand what's going on. Let's switch to the log scale and see if that helps."
   ]
  },
  {
   "cell_type": "markdown",
   "id": "56f1d31d-623f-4964-9fd3-67c767a17d3d",
   "metadata": {},
   "source": [
    "#### 7.3. Plot on log scale"
   ]
  },
  {
   "cell_type": "code",
   "execution_count": null,
   "id": "d61928df-d874-4ff4-8c41-fb1032f1d33c",
   "metadata": {},
   "outputs": [
    {
     "data": {
      "image/png": "[encoded data removed]",
      "text/plain": [
       "<Figure size 600x500 with 1 Axes>"
      ]
     },
     "metadata": {},
     "output_type": "display_data"
    }
   ],
   "source": [
    "plt.rcParams[\"figure.figsize\"] = (6, 5)\n",
    "\n",
    "sns.scatterplot(data=df, x=METRIC, y=SCORE, hue=CATEGORY, marker='o', alpha=0.6)\n",
    "\n",
    "plt.xscale('log')\n",
    "plt.yscale('log')\n",
    "\n",
    "plt.title(\"Experiment: \" + exp.experiment_id)\n",
    "plt.grid()\n",
    "plt.show()"
   ]
  },
  {
   "cell_type": "markdown",
   "id": "8bb9ffdd-5fe1-4a57-b5db-cb48f91e8f16",
   "metadata": {},
   "source": [
    " Now we can see that setting `synchronous=off` seems to improve the latency a lot. Apparently, the optimizer had also noticed that and focused on exploring a particular area of the configuration space. Let's switch back to the linear scale and zoom in to that region."
   ]
  },
  {
   "cell_type": "markdown",
   "id": "29de8933-1765-4bc7-a46e-97ffc5915e4b",
   "metadata": {},
   "source": [
    "#### 7.4. Zoom in"
   ]
  },
  {
   "cell_type": "code",
   "execution_count": null,
   "id": "ffd27dc5-85ee-4f92-8a34-483535cce85a",
   "metadata": {},
   "outputs": [
    {
     "data": {
      "image/png": "[encoded data removed]",
      "text/plain": [
       "<Figure size 600x400 with 1 Axes>"
      ]
     },
     "metadata": {},
     "output_type": "display_data"
    }
   ],
   "source": [
    "plt.rcParams[\"figure.figsize\"] = (6, 4)\n",
    "\n",
    "sns.scatterplot(data=df, x=METRIC, y=SCORE, hue=CATEGORY, marker='o', alpha=0.7)\n",
    "\n",
    "plt.xlim(100000, 350000)\n",
    "plt.ylim(950, 1250)\n",
    "\n",
    "plt.title(\"Experiment: \" + exp.experiment_id)\n",
    "plt.grid()\n",
    "plt.show()"
   ]
  },
  {
   "cell_type": "markdown",
   "id": "6120b4d2-88f3-4aca-bb20-808688b1615d",
   "metadata": {},
   "source": [
    "The latency seems to be minimal when the configuration parameter `synchronous` is set to `off` and when the metric `File system outputs` is in range of 100..300K. Let's focus on that subset of data and see what other configuration settings get us there."
   ]
  },
  {
   "cell_type": "markdown",
   "id": "68939d4c-bcab-494e-bbc6-28a4faffa613",
   "metadata": {},
   "source": [
    "#### 7.5. Look at other configuration parameters"
   ]
  },
  {
   "cell_type": "code",
   "execution_count": null,
   "id": "98e7f032-8a4e-49d6-928b-250485d4d7f3",
   "metadata": {},
   "outputs": [],
   "source": [
    "df_lim = df[(df[CATEGORY] == \"off\") & (df[METRIC] > 100000) & (df[METRIC] < 300000)]"
   ]
  },
  {
   "cell_type": "code",
   "execution_count": null,
   "id": "fd1f6358-ba12-41bf-871f-fa80bb944dae",
   "metadata": {},
   "outputs": [
    {
     "data": {
      "image/png": "[encoded data removed]",
      "text/plain": [
       "<Figure size 600x400 with 1 Axes>"
      ]
     },
     "metadata": {},
     "output_type": "display_data"
    }
   ],
   "source": [
    "plt.rcParams[\"figure.figsize\"] = (6, 4)\n",
    "\n",
    "sns.scatterplot(data=df_lim, x=\"config.cache_size\", y=SCORE, hue=\"config.journal_mode\", marker='o', alpha=0.7)\n",
    "\n",
    "plt.title(\"Experiment: \" + exp.experiment_id)\n",
    "plt.grid()\n",
    "plt.show()"
   ]
  },
  {
   "cell_type": "markdown",
   "id": "5f053367-5285-4352-9285-3ded1408b976",
   "metadata": {},
   "source": [
    "Again, we see that setting `journal_mode` to `wal` and `cache_size` to the value between 500MB and 2GB seem to produce good results, but we need more experiments to explore that hypothesis."
   ]
  },
  {
   "cell_type": "markdown",
   "id": "7600f6a6-ed11-408b-baca-ae13de0803b8",
   "metadata": {},
   "source": [
    "### 8. Outro"
   ]
  },
  {
   "cell_type": "markdown",
   "id": "e20656b8-092f-4e89-abc3-eccdba63326d",
   "metadata": {},
   "source": [
    "If you feel curious, please go ahead and play with the SQLite data in the cells below.\n",
    "\n",
    "After that, please open other notebooks in this repository and explore the data you have collected in this class as well as the results from our MySQL optimization experiments:\n",
    "\n",
    "* [**mlos_demo_sqlite.ipynb**](mlos_demo_sqlite.ipynb) - Use this notebook to analyze the data you've collected during this workshop.\n",
    "* [**mlos_demo_mysql.ipynb**](mlos_demo_mysql.ipynb) - Look at the actual production data we've collected in serveral experiment for MySQL Server optimization on Azure."
   ]
  },
  {
   "cell_type": "code",
   "execution_count": null,
   "id": "3fb01b48-e8e3-4f20-9027-b0f6371e5d15",
   "metadata": {},
   "outputs": [],
   "source": []
  }
 ],
 "metadata": {
  "kernelspec": {
   "display_name": "Python 3 (ipykernel)",
   "language": "python",
   "name": "python3"
  },
  "language_info": {
   "codemirror_mode": {
    "name": "ipython",
    "version": 3
   },
   "file_extension": ".py",
   "mimetype": "text/x-python",
   "name": "python",
   "nbconvert_exporter": "python",
   "pygments_lexer": "ipython3",
   "version": "3.11.7"
  }
 },
 "nbformat": 4,
 "nbformat_minor": 5
}
